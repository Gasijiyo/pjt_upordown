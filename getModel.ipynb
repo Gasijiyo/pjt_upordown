{
  "cells": [
    {
      "cell_type": "markdown",
      "metadata": {
        "id": "view-in-github",
        "colab_type": "text"
      },
      "source": [
        "<a href=\"https://colab.research.google.com/github/Gasijiyo/pjt_upordown/blob/master/getModel.ipynb\" target=\"_parent\"><img src=\"https://colab.research.google.com/assets/colab-badge.svg\" alt=\"Open In Colab\"/></a>"
      ]
    },
    {
      "cell_type": "markdown",
      "metadata": {
        "id": "5fj5-HPvYw_8"
      },
      "source": [
        "# Imports"
      ]
    },
    {
      "cell_type": "code",
      "execution_count": null,
      "metadata": {
        "colab": {
          "base_uri": "https://localhost:8080/"
        },
        "id": "kJQYv2srUG-V",
        "outputId": "4224e67f-a485-4917-de17-84503f2ce564"
      },
      "outputs": [
        {
          "output_type": "stream",
          "name": "stdout",
          "text": [
            "Drive already mounted at /content/drive; to attempt to forcibly remount, call drive.mount(\"/content/drive\", force_remount=True).\n"
          ]
        }
      ],
      "source": [
        "from google.colab import drive\n",
        "drive.mount('/content/drive')"
      ]
    },
    {
      "cell_type": "code",
      "execution_count": null,
      "metadata": {
        "colab": {
          "base_uri": "https://localhost:8080/"
        },
        "id": "sSLoSYopY8qz",
        "outputId": "2c9b4e94-0d8b-47a4-9eca-27402b3beb0f"
      },
      "outputs": [
        {
          "output_type": "stream",
          "name": "stdout",
          "text": [
            "Requirement already satisfied: yfinance in /usr/local/lib/python3.7/dist-packages (0.1.70)\n",
            "Requirement already satisfied: multitasking>=0.0.7 in /usr/local/lib/python3.7/dist-packages (from yfinance) (0.0.10)\n",
            "Requirement already satisfied: lxml>=4.5.1 in /usr/local/lib/python3.7/dist-packages (from yfinance) (4.8.0)\n",
            "Requirement already satisfied: numpy>=1.15 in /usr/local/lib/python3.7/dist-packages (from yfinance) (1.21.6)\n",
            "Requirement already satisfied: requests>=2.26 in /usr/local/lib/python3.7/dist-packages (from yfinance) (2.27.1)\n",
            "Requirement already satisfied: pandas>=0.24.0 in /usr/local/lib/python3.7/dist-packages (from yfinance) (1.3.5)\n",
            "Requirement already satisfied: pytz>=2017.3 in /usr/local/lib/python3.7/dist-packages (from pandas>=0.24.0->yfinance) (2022.1)\n",
            "Requirement already satisfied: python-dateutil>=2.7.3 in /usr/local/lib/python3.7/dist-packages (from pandas>=0.24.0->yfinance) (2.8.2)\n",
            "Requirement already satisfied: six>=1.5 in /usr/local/lib/python3.7/dist-packages (from python-dateutil>=2.7.3->pandas>=0.24.0->yfinance) (1.15.0)\n",
            "Requirement already satisfied: charset-normalizer~=2.0.0 in /usr/local/lib/python3.7/dist-packages (from requests>=2.26->yfinance) (2.0.12)\n",
            "Requirement already satisfied: idna<4,>=2.5 in /usr/local/lib/python3.7/dist-packages (from requests>=2.26->yfinance) (2.10)\n",
            "Requirement already satisfied: urllib3<1.27,>=1.21.1 in /usr/local/lib/python3.7/dist-packages (from requests>=2.26->yfinance) (1.24.3)\n",
            "Requirement already satisfied: certifi>=2017.4.17 in /usr/local/lib/python3.7/dist-packages (from requests>=2.26->yfinance) (2021.10.8)\n",
            "Requirement already satisfied: keras-tuner in /usr/local/lib/python3.7/dist-packages (1.1.2)\n",
            "Requirement already satisfied: ipython in /usr/local/lib/python3.7/dist-packages (from keras-tuner) (5.5.0)\n",
            "Requirement already satisfied: tensorboard in /usr/local/lib/python3.7/dist-packages (from keras-tuner) (2.8.0)\n",
            "Requirement already satisfied: requests in /usr/local/lib/python3.7/dist-packages (from keras-tuner) (2.27.1)\n",
            "Requirement already satisfied: numpy in /usr/local/lib/python3.7/dist-packages (from keras-tuner) (1.21.6)\n",
            "Requirement already satisfied: kt-legacy in /usr/local/lib/python3.7/dist-packages (from keras-tuner) (1.0.4)\n",
            "Requirement already satisfied: packaging in /usr/local/lib/python3.7/dist-packages (from keras-tuner) (21.3)\n",
            "Requirement already satisfied: pexpect in /usr/local/lib/python3.7/dist-packages (from ipython->keras-tuner) (4.8.0)\n",
            "Requirement already satisfied: prompt-toolkit<2.0.0,>=1.0.4 in /usr/local/lib/python3.7/dist-packages (from ipython->keras-tuner) (1.0.18)\n",
            "Requirement already satisfied: pygments in /usr/local/lib/python3.7/dist-packages (from ipython->keras-tuner) (2.6.1)\n",
            "Requirement already satisfied: setuptools>=18.5 in /usr/local/lib/python3.7/dist-packages (from ipython->keras-tuner) (57.4.0)\n",
            "Requirement already satisfied: simplegeneric>0.8 in /usr/local/lib/python3.7/dist-packages (from ipython->keras-tuner) (0.8.1)\n",
            "Requirement already satisfied: decorator in /usr/local/lib/python3.7/dist-packages (from ipython->keras-tuner) (4.4.2)\n",
            "Requirement already satisfied: traitlets>=4.2 in /usr/local/lib/python3.7/dist-packages (from ipython->keras-tuner) (5.1.1)\n",
            "Requirement already satisfied: pickleshare in /usr/local/lib/python3.7/dist-packages (from ipython->keras-tuner) (0.7.5)\n",
            "Requirement already satisfied: six>=1.9.0 in /usr/local/lib/python3.7/dist-packages (from prompt-toolkit<2.0.0,>=1.0.4->ipython->keras-tuner) (1.15.0)\n",
            "Requirement already satisfied: wcwidth in /usr/local/lib/python3.7/dist-packages (from prompt-toolkit<2.0.0,>=1.0.4->ipython->keras-tuner) (0.2.5)\n",
            "Requirement already satisfied: pyparsing!=3.0.5,>=2.0.2 in /usr/local/lib/python3.7/dist-packages (from packaging->keras-tuner) (3.0.8)\n",
            "Requirement already satisfied: ptyprocess>=0.5 in /usr/local/lib/python3.7/dist-packages (from pexpect->ipython->keras-tuner) (0.7.0)\n",
            "Requirement already satisfied: idna<4,>=2.5 in /usr/local/lib/python3.7/dist-packages (from requests->keras-tuner) (2.10)\n",
            "Requirement already satisfied: charset-normalizer~=2.0.0 in /usr/local/lib/python3.7/dist-packages (from requests->keras-tuner) (2.0.12)\n",
            "Requirement already satisfied: urllib3<1.27,>=1.21.1 in /usr/local/lib/python3.7/dist-packages (from requests->keras-tuner) (1.24.3)\n",
            "Requirement already satisfied: certifi>=2017.4.17 in /usr/local/lib/python3.7/dist-packages (from requests->keras-tuner) (2021.10.8)\n",
            "Requirement already satisfied: tensorboard-data-server<0.7.0,>=0.6.0 in /usr/local/lib/python3.7/dist-packages (from tensorboard->keras-tuner) (0.6.1)\n",
            "Requirement already satisfied: protobuf>=3.6.0 in /usr/local/lib/python3.7/dist-packages (from tensorboard->keras-tuner) (3.17.3)\n",
            "Requirement already satisfied: google-auth-oauthlib<0.5,>=0.4.1 in /usr/local/lib/python3.7/dist-packages (from tensorboard->keras-tuner) (0.4.6)\n",
            "Requirement already satisfied: wheel>=0.26 in /usr/local/lib/python3.7/dist-packages (from tensorboard->keras-tuner) (0.37.1)\n",
            "Requirement already satisfied: absl-py>=0.4 in /usr/local/lib/python3.7/dist-packages (from tensorboard->keras-tuner) (1.0.0)\n",
            "Requirement already satisfied: google-auth<3,>=1.6.3 in /usr/local/lib/python3.7/dist-packages (from tensorboard->keras-tuner) (1.35.0)\n",
            "Requirement already satisfied: tensorboard-plugin-wit>=1.6.0 in /usr/local/lib/python3.7/dist-packages (from tensorboard->keras-tuner) (1.8.1)\n",
            "Requirement already satisfied: grpcio>=1.24.3 in /usr/local/lib/python3.7/dist-packages (from tensorboard->keras-tuner) (1.44.0)\n",
            "Requirement already satisfied: werkzeug>=0.11.15 in /usr/local/lib/python3.7/dist-packages (from tensorboard->keras-tuner) (1.0.1)\n",
            "Requirement already satisfied: markdown>=2.6.8 in /usr/local/lib/python3.7/dist-packages (from tensorboard->keras-tuner) (3.3.6)\n",
            "Requirement already satisfied: pyasn1-modules>=0.2.1 in /usr/local/lib/python3.7/dist-packages (from google-auth<3,>=1.6.3->tensorboard->keras-tuner) (0.2.8)\n",
            "Requirement already satisfied: rsa<5,>=3.1.4 in /usr/local/lib/python3.7/dist-packages (from google-auth<3,>=1.6.3->tensorboard->keras-tuner) (4.8)\n",
            "Requirement already satisfied: cachetools<5.0,>=2.0.0 in /usr/local/lib/python3.7/dist-packages (from google-auth<3,>=1.6.3->tensorboard->keras-tuner) (4.2.4)\n",
            "Requirement already satisfied: requests-oauthlib>=0.7.0 in /usr/local/lib/python3.7/dist-packages (from google-auth-oauthlib<0.5,>=0.4.1->tensorboard->keras-tuner) (1.3.1)\n",
            "Requirement already satisfied: importlib-metadata>=4.4 in /usr/local/lib/python3.7/dist-packages (from markdown>=2.6.8->tensorboard->keras-tuner) (4.11.3)\n",
            "Requirement already satisfied: zipp>=0.5 in /usr/local/lib/python3.7/dist-packages (from importlib-metadata>=4.4->markdown>=2.6.8->tensorboard->keras-tuner) (3.8.0)\n",
            "Requirement already satisfied: typing-extensions>=3.6.4 in /usr/local/lib/python3.7/dist-packages (from importlib-metadata>=4.4->markdown>=2.6.8->tensorboard->keras-tuner) (4.2.0)\n",
            "Requirement already satisfied: pyasn1<0.5.0,>=0.4.6 in /usr/local/lib/python3.7/dist-packages (from pyasn1-modules>=0.2.1->google-auth<3,>=1.6.3->tensorboard->keras-tuner) (0.4.8)\n",
            "Requirement already satisfied: oauthlib>=3.0.0 in /usr/local/lib/python3.7/dist-packages (from requests-oauthlib>=0.7.0->google-auth-oauthlib<0.5,>=0.4.1->tensorboard->keras-tuner) (3.2.0)\n"
          ]
        }
      ],
      "source": [
        "import numpy as np\n",
        "\n",
        "import pandas as pd\n",
        "from pandas_datareader import data as pdr\n",
        "\n",
        "!pip install yfinance\n",
        "import yfinance as yf\n",
        "\n",
        "import matplotlib.pyplot as plt \n",
        "\n",
        "from sklearn.preprocessing import MinMaxScaler\n",
        "\n",
        "from keras.models import Sequential\n",
        "from keras.layers import LSTM, Dropout, Dense, Activation\n",
        "\n",
        "!pip install keras-tuner --upgrade\n",
        "from kerastuner.tuners import RandomSearch\n",
        "\n",
        "import tensorflow as tf\n",
        "from tensorflow.keras.callbacks import EarlyStopping"
      ]
    },
    {
      "cell_type": "markdown",
      "metadata": {
        "id": "a-m41c2lZPHz"
      },
      "source": [
        "# Load Data"
      ]
    },
    {
      "cell_type": "code",
      "execution_count": null,
      "metadata": {
        "colab": {
          "base_uri": "https://localhost:8080/"
        },
        "id": "AxqJ4E8UrqEk",
        "outputId": "b28f01e5-2431-4c83-f7e0-6d057a7a9fd0"
      },
      "outputs": [
        {
          "output_type": "stream",
          "name": "stdout",
          "text": [
            "\r[*********************100%***********************]  1 of 1 completed\n"
          ]
        }
      ],
      "source": [
        "company_name = 'SAMSUNG ELECTRONIC'\n",
        "stock_code = '005490.KS' # 기아 # 포스코\n",
        "start_day = '2012-04-29'\n",
        "end_day = '2022-04-29'  # 10년\n",
        "\n",
        "yf.pdr_override()\n",
        "df = pdr.get_data_yahoo(stock_code, start=start_day, end=end_day)"
      ]
    },
    {
      "cell_type": "code",
      "execution_count": null,
      "metadata": {
        "colab": {
          "base_uri": "https://localhost:8080/",
          "height": 238
        },
        "id": "JDFM9rghsglr",
        "outputId": "33b3a07e-4639-43ca-8fd4-69378a88ebf6"
      },
      "outputs": [
        {
          "output_type": "execute_result",
          "data": {
            "text/plain": [
              "                Open      High       Low     Close     Adj Close  Volume\n",
              "Date                                                                    \n",
              "2012-04-30  381500.0  381500.0  375000.0  375500.0  265817.46875  130640\n",
              "2012-05-02  376000.0  377000.0  371500.0  376000.0  266171.50000  173976\n",
              "2012-05-03  373000.0  376000.0  372000.0  374000.0  264755.68750   97247\n",
              "2012-05-04  376500.0  376500.0  370000.0  374000.0  264755.68750  143503\n",
              "2012-05-07  374000.0  375500.0  369000.0  370000.0  261924.03125  207154"
            ],
            "text/html": [
              "\n",
              "  <div id=\"df-7b495843-90a9-4f0c-9f9a-3e8ebffa6f1c\">\n",
              "    <div class=\"colab-df-container\">\n",
              "      <div>\n",
              "<style scoped>\n",
              "    .dataframe tbody tr th:only-of-type {\n",
              "        vertical-align: middle;\n",
              "    }\n",
              "\n",
              "    .dataframe tbody tr th {\n",
              "        vertical-align: top;\n",
              "    }\n",
              "\n",
              "    .dataframe thead th {\n",
              "        text-align: right;\n",
              "    }\n",
              "</style>\n",
              "<table border=\"1\" class=\"dataframe\">\n",
              "  <thead>\n",
              "    <tr style=\"text-align: right;\">\n",
              "      <th></th>\n",
              "      <th>Open</th>\n",
              "      <th>High</th>\n",
              "      <th>Low</th>\n",
              "      <th>Close</th>\n",
              "      <th>Adj Close</th>\n",
              "      <th>Volume</th>\n",
              "    </tr>\n",
              "    <tr>\n",
              "      <th>Date</th>\n",
              "      <th></th>\n",
              "      <th></th>\n",
              "      <th></th>\n",
              "      <th></th>\n",
              "      <th></th>\n",
              "      <th></th>\n",
              "    </tr>\n",
              "  </thead>\n",
              "  <tbody>\n",
              "    <tr>\n",
              "      <th>2012-04-30</th>\n",
              "      <td>381500.0</td>\n",
              "      <td>381500.0</td>\n",
              "      <td>375000.0</td>\n",
              "      <td>375500.0</td>\n",
              "      <td>265817.46875</td>\n",
              "      <td>130640</td>\n",
              "    </tr>\n",
              "    <tr>\n",
              "      <th>2012-05-02</th>\n",
              "      <td>376000.0</td>\n",
              "      <td>377000.0</td>\n",
              "      <td>371500.0</td>\n",
              "      <td>376000.0</td>\n",
              "      <td>266171.50000</td>\n",
              "      <td>173976</td>\n",
              "    </tr>\n",
              "    <tr>\n",
              "      <th>2012-05-03</th>\n",
              "      <td>373000.0</td>\n",
              "      <td>376000.0</td>\n",
              "      <td>372000.0</td>\n",
              "      <td>374000.0</td>\n",
              "      <td>264755.68750</td>\n",
              "      <td>97247</td>\n",
              "    </tr>\n",
              "    <tr>\n",
              "      <th>2012-05-04</th>\n",
              "      <td>376500.0</td>\n",
              "      <td>376500.0</td>\n",
              "      <td>370000.0</td>\n",
              "      <td>374000.0</td>\n",
              "      <td>264755.68750</td>\n",
              "      <td>143503</td>\n",
              "    </tr>\n",
              "    <tr>\n",
              "      <th>2012-05-07</th>\n",
              "      <td>374000.0</td>\n",
              "      <td>375500.0</td>\n",
              "      <td>369000.0</td>\n",
              "      <td>370000.0</td>\n",
              "      <td>261924.03125</td>\n",
              "      <td>207154</td>\n",
              "    </tr>\n",
              "  </tbody>\n",
              "</table>\n",
              "</div>\n",
              "      <button class=\"colab-df-convert\" onclick=\"convertToInteractive('df-7b495843-90a9-4f0c-9f9a-3e8ebffa6f1c')\"\n",
              "              title=\"Convert this dataframe to an interactive table.\"\n",
              "              style=\"display:none;\">\n",
              "        \n",
              "  <svg xmlns=\"http://www.w3.org/2000/svg\" height=\"24px\"viewBox=\"0 0 24 24\"\n",
              "       width=\"24px\">\n",
              "    <path d=\"M0 0h24v24H0V0z\" fill=\"none\"/>\n",
              "    <path d=\"M18.56 5.44l.94 2.06.94-2.06 2.06-.94-2.06-.94-.94-2.06-.94 2.06-2.06.94zm-11 1L8.5 8.5l.94-2.06 2.06-.94-2.06-.94L8.5 2.5l-.94 2.06-2.06.94zm10 10l.94 2.06.94-2.06 2.06-.94-2.06-.94-.94-2.06-.94 2.06-2.06.94z\"/><path d=\"M17.41 7.96l-1.37-1.37c-.4-.4-.92-.59-1.43-.59-.52 0-1.04.2-1.43.59L10.3 9.45l-7.72 7.72c-.78.78-.78 2.05 0 2.83L4 21.41c.39.39.9.59 1.41.59.51 0 1.02-.2 1.41-.59l7.78-7.78 2.81-2.81c.8-.78.8-2.07 0-2.86zM5.41 20L4 18.59l7.72-7.72 1.47 1.35L5.41 20z\"/>\n",
              "  </svg>\n",
              "      </button>\n",
              "      \n",
              "  <style>\n",
              "    .colab-df-container {\n",
              "      display:flex;\n",
              "      flex-wrap:wrap;\n",
              "      gap: 12px;\n",
              "    }\n",
              "\n",
              "    .colab-df-convert {\n",
              "      background-color: #E8F0FE;\n",
              "      border: none;\n",
              "      border-radius: 50%;\n",
              "      cursor: pointer;\n",
              "      display: none;\n",
              "      fill: #1967D2;\n",
              "      height: 32px;\n",
              "      padding: 0 0 0 0;\n",
              "      width: 32px;\n",
              "    }\n",
              "\n",
              "    .colab-df-convert:hover {\n",
              "      background-color: #E2EBFA;\n",
              "      box-shadow: 0px 1px 2px rgba(60, 64, 67, 0.3), 0px 1px 3px 1px rgba(60, 64, 67, 0.15);\n",
              "      fill: #174EA6;\n",
              "    }\n",
              "\n",
              "    [theme=dark] .colab-df-convert {\n",
              "      background-color: #3B4455;\n",
              "      fill: #D2E3FC;\n",
              "    }\n",
              "\n",
              "    [theme=dark] .colab-df-convert:hover {\n",
              "      background-color: #434B5C;\n",
              "      box-shadow: 0px 1px 3px 1px rgba(0, 0, 0, 0.15);\n",
              "      filter: drop-shadow(0px 1px 2px rgba(0, 0, 0, 0.3));\n",
              "      fill: #FFFFFF;\n",
              "    }\n",
              "  </style>\n",
              "\n",
              "      <script>\n",
              "        const buttonEl =\n",
              "          document.querySelector('#df-7b495843-90a9-4f0c-9f9a-3e8ebffa6f1c button.colab-df-convert');\n",
              "        buttonEl.style.display =\n",
              "          google.colab.kernel.accessAllowed ? 'block' : 'none';\n",
              "\n",
              "        async function convertToInteractive(key) {\n",
              "          const element = document.querySelector('#df-7b495843-90a9-4f0c-9f9a-3e8ebffa6f1c');\n",
              "          const dataTable =\n",
              "            await google.colab.kernel.invokeFunction('convertToInteractive',\n",
              "                                                     [key], {});\n",
              "          if (!dataTable) return;\n",
              "\n",
              "          const docLinkHtml = 'Like what you see? Visit the ' +\n",
              "            '<a target=\"_blank\" href=https://colab.research.google.com/notebooks/data_table.ipynb>data table notebook</a>'\n",
              "            + ' to learn more about interactive tables.';\n",
              "          element.innerHTML = '';\n",
              "          dataTable['output_type'] = 'display_data';\n",
              "          await google.colab.output.renderOutput(dataTable, element);\n",
              "          const docLink = document.createElement('div');\n",
              "          docLink.innerHTML = docLinkHtml;\n",
              "          element.appendChild(docLink);\n",
              "        }\n",
              "      </script>\n",
              "    </div>\n",
              "  </div>\n",
              "  "
            ]
          },
          "metadata": {},
          "execution_count": 93
        }
      ],
      "source": [
        "df.head()"
      ]
    },
    {
      "cell_type": "code",
      "execution_count": null,
      "metadata": {
        "colab": {
          "base_uri": "https://localhost:8080/",
          "height": 238
        },
        "id": "oN7Nimf-s8iA",
        "outputId": "249dc011-dd58-48c1-ef3a-315100e5e06c"
      },
      "outputs": [
        {
          "output_type": "execute_result",
          "data": {
            "text/plain": [
              "                Open      High       Low     Close  Adj Close  Volume\n",
              "Date                                                                 \n",
              "2022-04-25  289500.0  290500.0  286000.0  286000.0   286000.0  251867\n",
              "2022-04-26  288000.0  288500.0  282000.0  284000.0   284000.0  302521\n",
              "2022-04-27  279000.0  279500.0  276000.0  278000.0   278000.0  304986\n",
              "2022-04-28  280500.0  290000.0  280500.0  290000.0   290000.0  341213\n",
              "2022-04-29  286500.0  290500.0  285500.0  289000.0   289000.0  178473"
            ],
            "text/html": [
              "\n",
              "  <div id=\"df-af61a3ed-6c9d-438c-be02-ed310a9e6b07\">\n",
              "    <div class=\"colab-df-container\">\n",
              "      <div>\n",
              "<style scoped>\n",
              "    .dataframe tbody tr th:only-of-type {\n",
              "        vertical-align: middle;\n",
              "    }\n",
              "\n",
              "    .dataframe tbody tr th {\n",
              "        vertical-align: top;\n",
              "    }\n",
              "\n",
              "    .dataframe thead th {\n",
              "        text-align: right;\n",
              "    }\n",
              "</style>\n",
              "<table border=\"1\" class=\"dataframe\">\n",
              "  <thead>\n",
              "    <tr style=\"text-align: right;\">\n",
              "      <th></th>\n",
              "      <th>Open</th>\n",
              "      <th>High</th>\n",
              "      <th>Low</th>\n",
              "      <th>Close</th>\n",
              "      <th>Adj Close</th>\n",
              "      <th>Volume</th>\n",
              "    </tr>\n",
              "    <tr>\n",
              "      <th>Date</th>\n",
              "      <th></th>\n",
              "      <th></th>\n",
              "      <th></th>\n",
              "      <th></th>\n",
              "      <th></th>\n",
              "      <th></th>\n",
              "    </tr>\n",
              "  </thead>\n",
              "  <tbody>\n",
              "    <tr>\n",
              "      <th>2022-04-25</th>\n",
              "      <td>289500.0</td>\n",
              "      <td>290500.0</td>\n",
              "      <td>286000.0</td>\n",
              "      <td>286000.0</td>\n",
              "      <td>286000.0</td>\n",
              "      <td>251867</td>\n",
              "    </tr>\n",
              "    <tr>\n",
              "      <th>2022-04-26</th>\n",
              "      <td>288000.0</td>\n",
              "      <td>288500.0</td>\n",
              "      <td>282000.0</td>\n",
              "      <td>284000.0</td>\n",
              "      <td>284000.0</td>\n",
              "      <td>302521</td>\n",
              "    </tr>\n",
              "    <tr>\n",
              "      <th>2022-04-27</th>\n",
              "      <td>279000.0</td>\n",
              "      <td>279500.0</td>\n",
              "      <td>276000.0</td>\n",
              "      <td>278000.0</td>\n",
              "      <td>278000.0</td>\n",
              "      <td>304986</td>\n",
              "    </tr>\n",
              "    <tr>\n",
              "      <th>2022-04-28</th>\n",
              "      <td>280500.0</td>\n",
              "      <td>290000.0</td>\n",
              "      <td>280500.0</td>\n",
              "      <td>290000.0</td>\n",
              "      <td>290000.0</td>\n",
              "      <td>341213</td>\n",
              "    </tr>\n",
              "    <tr>\n",
              "      <th>2022-04-29</th>\n",
              "      <td>286500.0</td>\n",
              "      <td>290500.0</td>\n",
              "      <td>285500.0</td>\n",
              "      <td>289000.0</td>\n",
              "      <td>289000.0</td>\n",
              "      <td>178473</td>\n",
              "    </tr>\n",
              "  </tbody>\n",
              "</table>\n",
              "</div>\n",
              "      <button class=\"colab-df-convert\" onclick=\"convertToInteractive('df-af61a3ed-6c9d-438c-be02-ed310a9e6b07')\"\n",
              "              title=\"Convert this dataframe to an interactive table.\"\n",
              "              style=\"display:none;\">\n",
              "        \n",
              "  <svg xmlns=\"http://www.w3.org/2000/svg\" height=\"24px\"viewBox=\"0 0 24 24\"\n",
              "       width=\"24px\">\n",
              "    <path d=\"M0 0h24v24H0V0z\" fill=\"none\"/>\n",
              "    <path d=\"M18.56 5.44l.94 2.06.94-2.06 2.06-.94-2.06-.94-.94-2.06-.94 2.06-2.06.94zm-11 1L8.5 8.5l.94-2.06 2.06-.94-2.06-.94L8.5 2.5l-.94 2.06-2.06.94zm10 10l.94 2.06.94-2.06 2.06-.94-2.06-.94-.94-2.06-.94 2.06-2.06.94z\"/><path d=\"M17.41 7.96l-1.37-1.37c-.4-.4-.92-.59-1.43-.59-.52 0-1.04.2-1.43.59L10.3 9.45l-7.72 7.72c-.78.78-.78 2.05 0 2.83L4 21.41c.39.39.9.59 1.41.59.51 0 1.02-.2 1.41-.59l7.78-7.78 2.81-2.81c.8-.78.8-2.07 0-2.86zM5.41 20L4 18.59l7.72-7.72 1.47 1.35L5.41 20z\"/>\n",
              "  </svg>\n",
              "      </button>\n",
              "      \n",
              "  <style>\n",
              "    .colab-df-container {\n",
              "      display:flex;\n",
              "      flex-wrap:wrap;\n",
              "      gap: 12px;\n",
              "    }\n",
              "\n",
              "    .colab-df-convert {\n",
              "      background-color: #E8F0FE;\n",
              "      border: none;\n",
              "      border-radius: 50%;\n",
              "      cursor: pointer;\n",
              "      display: none;\n",
              "      fill: #1967D2;\n",
              "      height: 32px;\n",
              "      padding: 0 0 0 0;\n",
              "      width: 32px;\n",
              "    }\n",
              "\n",
              "    .colab-df-convert:hover {\n",
              "      background-color: #E2EBFA;\n",
              "      box-shadow: 0px 1px 2px rgba(60, 64, 67, 0.3), 0px 1px 3px 1px rgba(60, 64, 67, 0.15);\n",
              "      fill: #174EA6;\n",
              "    }\n",
              "\n",
              "    [theme=dark] .colab-df-convert {\n",
              "      background-color: #3B4455;\n",
              "      fill: #D2E3FC;\n",
              "    }\n",
              "\n",
              "    [theme=dark] .colab-df-convert:hover {\n",
              "      background-color: #434B5C;\n",
              "      box-shadow: 0px 1px 3px 1px rgba(0, 0, 0, 0.15);\n",
              "      filter: drop-shadow(0px 1px 2px rgba(0, 0, 0, 0.3));\n",
              "      fill: #FFFFFF;\n",
              "    }\n",
              "  </style>\n",
              "\n",
              "      <script>\n",
              "        const buttonEl =\n",
              "          document.querySelector('#df-af61a3ed-6c9d-438c-be02-ed310a9e6b07 button.colab-df-convert');\n",
              "        buttonEl.style.display =\n",
              "          google.colab.kernel.accessAllowed ? 'block' : 'none';\n",
              "\n",
              "        async function convertToInteractive(key) {\n",
              "          const element = document.querySelector('#df-af61a3ed-6c9d-438c-be02-ed310a9e6b07');\n",
              "          const dataTable =\n",
              "            await google.colab.kernel.invokeFunction('convertToInteractive',\n",
              "                                                     [key], {});\n",
              "          if (!dataTable) return;\n",
              "\n",
              "          const docLinkHtml = 'Like what you see? Visit the ' +\n",
              "            '<a target=\"_blank\" href=https://colab.research.google.com/notebooks/data_table.ipynb>data table notebook</a>'\n",
              "            + ' to learn more about interactive tables.';\n",
              "          element.innerHTML = '';\n",
              "          dataTable['output_type'] = 'display_data';\n",
              "          await google.colab.output.renderOutput(dataTable, element);\n",
              "          const docLink = document.createElement('div');\n",
              "          docLink.innerHTML = docLinkHtml;\n",
              "          element.appendChild(docLink);\n",
              "        }\n",
              "      </script>\n",
              "    </div>\n",
              "  </div>\n",
              "  "
            ]
          },
          "metadata": {},
          "execution_count": 94
        }
      ],
      "source": [
        "df.tail()"
      ]
    },
    {
      "cell_type": "code",
      "execution_count": null,
      "metadata": {
        "colab": {
          "base_uri": "https://localhost:8080/"
        },
        "id": "ayvS8oBeaNnN",
        "outputId": "3fe1d040-725e-4d8d-bff4-a0fcf3cd34d1"
      },
      "outputs": [
        {
          "output_type": "stream",
          "name": "stdout",
          "text": [
            "<class 'pandas.core.frame.DataFrame'>\n",
            "DatetimeIndex: 2460 entries, 2012-04-30 to 2022-04-29\n",
            "Data columns (total 6 columns):\n",
            " #   Column     Non-Null Count  Dtype  \n",
            "---  ------     --------------  -----  \n",
            " 0   Open       2460 non-null   float64\n",
            " 1   High       2460 non-null   float64\n",
            " 2   Low        2460 non-null   float64\n",
            " 3   Close      2460 non-null   float64\n",
            " 4   Adj Close  2460 non-null   float64\n",
            " 5   Volume     2460 non-null   int64  \n",
            "dtypes: float64(5), int64(1)\n",
            "memory usage: 134.5 KB\n"
          ]
        }
      ],
      "source": [
        "df.info()"
      ]
    },
    {
      "cell_type": "code",
      "execution_count": null,
      "metadata": {
        "colab": {
          "base_uri": "https://localhost:8080/"
        },
        "id": "W-2CJPdnaP2R",
        "outputId": "90b08171-96dd-436f-8a76-917edbbaa4ef"
      },
      "outputs": [
        {
          "output_type": "execute_result",
          "data": {
            "text/plain": [
              "Date\n",
              "2012-04-30    375500.0\n",
              "2012-05-02    376000.0\n",
              "2012-05-03    374000.0\n",
              "2012-05-04    374000.0\n",
              "2012-05-07    370000.0\n",
              "                ...   \n",
              "2022-04-25    286000.0\n",
              "2022-04-26    284000.0\n",
              "2022-04-27    278000.0\n",
              "2022-04-28    290000.0\n",
              "2022-04-29    289000.0\n",
              "Name: Close, Length: 2460, dtype: float64"
            ]
          },
          "metadata": {},
          "execution_count": 96
        }
      ],
      "source": [
        "df_clo = df['Close']    # feature로 '종가' 선택.\n",
        "df_clo"
      ]
    },
    {
      "cell_type": "code",
      "execution_count": null,
      "metadata": {
        "colab": {
          "base_uri": "https://localhost:8080/",
          "height": 404
        },
        "id": "fVwqa7TsamSp",
        "outputId": "71669db7-6dd0-4bf8-dc06-50b630124a67"
      },
      "outputs": [
        {
          "output_type": "display_data",
          "data": {
            "text/plain": [
              "<Figure size 864x432 with 1 Axes>"
            ],
            "image/png": "[encoded data removed]"
          },
          "metadata": {
            "needs_background": "light"
          }
        }
      ],
      "source": [
        "# 시각화\n",
        "plt.figure(figsize=(12, 6))\n",
        "plt.plot(df_clo.index, df_clo.values, label='Close price')\n",
        "\n",
        "plt.title(f'{company_name} STCOK PRICE')\n",
        "plt.ylabel('Close (Won)')\n",
        "plt.xlabel('Date')\n",
        "plt.grid()\n",
        "plt.legend()\n",
        "\n",
        "plt.show()"
      ]
    },
    {
      "cell_type": "markdown",
      "metadata": {
        "id": "vTbK97qIbmDd"
      },
      "source": [
        "# Preprocessing"
      ]
    },
    {
      "cell_type": "markdown",
      "metadata": {
        "id": "EHXidztfZvbz"
      },
      "source": [
        "## 거래량 0 제외"
      ]
    },
    {
      "cell_type": "code",
      "execution_count": null,
      "metadata": {
        "colab": {
          "base_uri": "https://localhost:8080/"
        },
        "id": "mqIisEqtZ41l",
        "outputId": "782db6b1-45fd-4130-a703-231e32f84cc3"
      },
      "outputs": [
        {
          "output_type": "execute_result",
          "data": {
            "text/plain": [
              "Open          0\n",
              "High          0\n",
              "Low           0\n",
              "Close         0\n",
              "Adj Close     0\n",
              "Volume       17\n",
              "dtype: int64"
            ]
          },
          "metadata": {},
          "execution_count": 98
        }
      ],
      "source": [
        "# Volume값 0을 NaN으로 모두 대체(replace)\n",
        "df['Volume'] = df['Volume'].replace(0,np.nan)\n",
        "\n",
        "df.isnull().sum()"
      ]
    },
    {
      "cell_type": "code",
      "execution_count": null,
      "metadata": {
        "id": "Qx8j6Gnka-rt"
      },
      "outputs": [],
      "source": [
        "# 모든 Missing Value 삭제\n",
        "df = df.dropna()"
      ]
    },
    {
      "cell_type": "markdown",
      "metadata": {
        "id": "jvs8MEwibMf0"
      },
      "source": [
        "## 정규화"
      ]
    },
    {
      "cell_type": "code",
      "execution_count": null,
      "metadata": {
        "colab": {
          "base_uri": "https://localhost:8080/",
          "height": 424
        },
        "id": "pUhR9X_UbNwI",
        "outputId": "2ad9ec1a-b2f1-44c6-9c31-d5b8f0be7a27"
      },
      "outputs": [
        {
          "output_type": "execute_result",
          "data": {
            "text/plain": [
              "         Close    Volume\n",
              "0     0.874770  0.025624\n",
              "1     0.876611  0.038473\n",
              "2     0.869245  0.015723\n",
              "3     0.869245  0.029438\n",
              "4     0.854512  0.048310\n",
              "...        ...       ...\n",
              "2438  0.545120  0.061566\n",
              "2439  0.537753  0.076585\n",
              "2440  0.515654  0.077316\n",
              "2441  0.559853  0.088057\n",
              "2442  0.556169  0.039806\n",
              "\n",
              "[2443 rows x 2 columns]"
            ],
            "text/html": [
              "\n",
              "  <div id=\"df-642c6741-7272-42b7-b51c-718d95b15b82\">\n",
              "    <div class=\"colab-df-container\">\n",
              "      <div>\n",
              "<style scoped>\n",
              "    .dataframe tbody tr th:only-of-type {\n",
              "        vertical-align: middle;\n",
              "    }\n",
              "\n",
              "    .dataframe tbody tr th {\n",
              "        vertical-align: top;\n",
              "    }\n",
              "\n",
              "    .dataframe thead th {\n",
              "        text-align: right;\n",
              "    }\n",
              "</style>\n",
              "<table border=\"1\" class=\"dataframe\">\n",
              "  <thead>\n",
              "    <tr style=\"text-align: right;\">\n",
              "      <th></th>\n",
              "      <th>Close</th>\n",
              "      <th>Volume</th>\n",
              "    </tr>\n",
              "  </thead>\n",
              "  <tbody>\n",
              "    <tr>\n",
              "      <th>0</th>\n",
              "      <td>0.874770</td>\n",
              "      <td>0.025624</td>\n",
              "    </tr>\n",
              "    <tr>\n",
              "      <th>1</th>\n",
              "      <td>0.876611</td>\n",
              "      <td>0.038473</td>\n",
              "    </tr>\n",
              "    <tr>\n",
              "      <th>2</th>\n",
              "      <td>0.869245</td>\n",
              "      <td>0.015723</td>\n",
              "    </tr>\n",
              "    <tr>\n",
              "      <th>3</th>\n",
              "      <td>0.869245</td>\n",
              "      <td>0.029438</td>\n",
              "    </tr>\n",
              "    <tr>\n",
              "      <th>4</th>\n",
              "      <td>0.854512</td>\n",
              "      <td>0.048310</td>\n",
              "    </tr>\n",
              "    <tr>\n",
              "      <th>...</th>\n",
              "      <td>...</td>\n",
              "      <td>...</td>\n",
              "    </tr>\n",
              "    <tr>\n",
              "      <th>2438</th>\n",
              "      <td>0.545120</td>\n",
              "      <td>0.061566</td>\n",
              "    </tr>\n",
              "    <tr>\n",
              "      <th>2439</th>\n",
              "      <td>0.537753</td>\n",
              "      <td>0.076585</td>\n",
              "    </tr>\n",
              "    <tr>\n",
              "      <th>2440</th>\n",
              "      <td>0.515654</td>\n",
              "      <td>0.077316</td>\n",
              "    </tr>\n",
              "    <tr>\n",
              "      <th>2441</th>\n",
              "      <td>0.559853</td>\n",
              "      <td>0.088057</td>\n",
              "    </tr>\n",
              "    <tr>\n",
              "      <th>2442</th>\n",
              "      <td>0.556169</td>\n",
              "      <td>0.039806</td>\n",
              "    </tr>\n",
              "  </tbody>\n",
              "</table>\n",
              "<p>2443 rows × 2 columns</p>\n",
              "</div>\n",
              "      <button class=\"colab-df-convert\" onclick=\"convertToInteractive('df-642c6741-7272-42b7-b51c-718d95b15b82')\"\n",
              "              title=\"Convert this dataframe to an interactive table.\"\n",
              "              style=\"display:none;\">\n",
              "        \n",
              "  <svg xmlns=\"http://www.w3.org/2000/svg\" height=\"24px\"viewBox=\"0 0 24 24\"\n",
              "       width=\"24px\">\n",
              "    <path d=\"M0 0h24v24H0V0z\" fill=\"none\"/>\n",
              "    <path d=\"M18.56 5.44l.94 2.06.94-2.06 2.06-.94-2.06-.94-.94-2.06-.94 2.06-2.06.94zm-11 1L8.5 8.5l.94-2.06 2.06-.94-2.06-.94L8.5 2.5l-.94 2.06-2.06.94zm10 10l.94 2.06.94-2.06 2.06-.94-2.06-.94-.94-2.06-.94 2.06-2.06.94z\"/><path d=\"M17.41 7.96l-1.37-1.37c-.4-.4-.92-.59-1.43-.59-.52 0-1.04.2-1.43.59L10.3 9.45l-7.72 7.72c-.78.78-.78 2.05 0 2.83L4 21.41c.39.39.9.59 1.41.59.51 0 1.02-.2 1.41-.59l7.78-7.78 2.81-2.81c.8-.78.8-2.07 0-2.86zM5.41 20L4 18.59l7.72-7.72 1.47 1.35L5.41 20z\"/>\n",
              "  </svg>\n",
              "      </button>\n",
              "      \n",
              "  <style>\n",
              "    .colab-df-container {\n",
              "      display:flex;\n",
              "      flex-wrap:wrap;\n",
              "      gap: 12px;\n",
              "    }\n",
              "\n",
              "    .colab-df-convert {\n",
              "      background-color: #E8F0FE;\n",
              "      border: none;\n",
              "      border-radius: 50%;\n",
              "      cursor: pointer;\n",
              "      display: none;\n",
              "      fill: #1967D2;\n",
              "      height: 32px;\n",
              "      padding: 0 0 0 0;\n",
              "      width: 32px;\n",
              "    }\n",
              "\n",
              "    .colab-df-convert:hover {\n",
              "      background-color: #E2EBFA;\n",
              "      box-shadow: 0px 1px 2px rgba(60, 64, 67, 0.3), 0px 1px 3px 1px rgba(60, 64, 67, 0.15);\n",
              "      fill: #174EA6;\n",
              "    }\n",
              "\n",
              "    [theme=dark] .colab-df-convert {\n",
              "      background-color: #3B4455;\n",
              "      fill: #D2E3FC;\n",
              "    }\n",
              "\n",
              "    [theme=dark] .colab-df-convert:hover {\n",
              "      background-color: #434B5C;\n",
              "      box-shadow: 0px 1px 3px 1px rgba(0, 0, 0, 0.15);\n",
              "      filter: drop-shadow(0px 1px 2px rgba(0, 0, 0, 0.3));\n",
              "      fill: #FFFFFF;\n",
              "    }\n",
              "  </style>\n",
              "\n",
              "      <script>\n",
              "        const buttonEl =\n",
              "          document.querySelector('#df-642c6741-7272-42b7-b51c-718d95b15b82 button.colab-df-convert');\n",
              "        buttonEl.style.display =\n",
              "          google.colab.kernel.accessAllowed ? 'block' : 'none';\n",
              "\n",
              "        async function convertToInteractive(key) {\n",
              "          const element = document.querySelector('#df-642c6741-7272-42b7-b51c-718d95b15b82');\n",
              "          const dataTable =\n",
              "            await google.colab.kernel.invokeFunction('convertToInteractive',\n",
              "                                                     [key], {});\n",
              "          if (!dataTable) return;\n",
              "\n",
              "          const docLinkHtml = 'Like what you see? Visit the ' +\n",
              "            '<a target=\"_blank\" href=https://colab.research.google.com/notebooks/data_table.ipynb>data table notebook</a>'\n",
              "            + ' to learn more about interactive tables.';\n",
              "          element.innerHTML = '';\n",
              "          dataTable['output_type'] = 'display_data';\n",
              "          await google.colab.output.renderOutput(dataTable, element);\n",
              "          const docLink = document.createElement('div');\n",
              "          docLink.innerHTML = docLinkHtml;\n",
              "          element.appendChild(docLink);\n",
              "        }\n",
              "      </script>\n",
              "    </div>\n",
              "  </div>\n",
              "  "
            ]
          },
          "metadata": {},
          "execution_count": 100
        }
      ],
      "source": [
        "scaler = MinMaxScaler()\n",
        "scale_cols = ['Close', 'Volume']     # ['Open','High', 'Low', 'Close', 'Adj Close', 'Volume']\n",
        "\n",
        "scaled_df = scaler.fit_transform(df[scale_cols])\n",
        "\n",
        "scaled_df = pd.DataFrame(scaled_df, columns=scale_cols)\n",
        "scaled_df"
      ]
    },
    {
      "cell_type": "markdown",
      "metadata": {
        "id": "oFh_69wBdl_v"
      },
      "source": [
        "## 데이터 정의"
      ]
    },
    {
      "cell_type": "code",
      "execution_count": null,
      "metadata": {
        "id": "cmPekXTBa9vC"
      },
      "outputs": [],
      "source": [
        "feature_list = {0: 'Close', 1: 'Volume'}   # 사용할 feature 리스트"
      ]
    },
    {
      "cell_type": "code",
      "execution_count": null,
      "metadata": {
        "id": "jh1Pw9tDfEzx"
      },
      "outputs": [],
      "source": [
        "# param = 0       # Close만 선택\n",
        "param = 0     # Close, Volume 둘 다 선택."
      ]
    },
    {
      "cell_type": "code",
      "execution_count": null,
      "metadata": {
        "id": "GnbYNHL7f9MR"
      },
      "outputs": [],
      "source": [
        "if (param == 0):\n",
        "    feature_cols= [feature_list[0]]\n",
        "elif (param == 1):\n",
        "    feature_cols= [feature_list[0], feature_list[1]]   \n",
        "\n",
        "label_cols=[feature_list[0]]    "
      ]
    },
    {
      "cell_type": "code",
      "execution_count": null,
      "metadata": {
        "id": "5B_O43-6ZJht"
      },
      "outputs": [],
      "source": [
        "label_df = pd.DataFrame(scaled_df, columns=label_cols)\n",
        "feature_df = pd.DataFrame(scaled_df, columns=feature_cols)\n",
        "\n",
        "label_np = label_df.to_numpy()\n",
        "feature_np = feature_df.to_numpy()"
      ]
    },
    {
      "cell_type": "code",
      "execution_count": null,
      "metadata": {
        "id": "vJzF8y4PiGji"
      },
      "outputs": [],
      "source": [
        "time = 1   #  하루 예측\n",
        "# time = 1   #  일주일 예측"
      ]
    },
    {
      "cell_type": "code",
      "execution_count": null,
      "metadata": {
        "id": "TtieEh_oecJJ"
      },
      "outputs": [],
      "source": [
        "# 입력 파라미터 feature, label=> numpy type\n",
        "\n",
        "def make_sequence_dataset(feature, label, window_size, time):\n",
        "\n",
        "  feature_list=[] # 생성될 feature list\n",
        "  label_list=[]   # 생성될 label list\n",
        "\n",
        "  if (time == 0):\n",
        "    for i in range(len(feature) - window_size):\n",
        "        feature_list.append(feature[i:i+window_size])\n",
        "        label_list.append(label[i+window_size])      \n",
        "  elif (time == 1):\n",
        "    num = len(feature) % 5 \n",
        "\n",
        "    for i in range(num, len(feature)-(window_size + 4), 5):\n",
        "        feature_list.append(feature[i:i+window_size])\n",
        "        label_list.append(label[i+window_size:i+window_size+5])  \n",
        "\n",
        "  return np.array(feature_list), np.array(label_list)"
      ]
    },
    {
      "cell_type": "code",
      "execution_count": null,
      "metadata": {
        "id": "Srfss5QpjzEb"
      },
      "outputs": [],
      "source": [
        "if (time == 0):\n",
        "    window_size = 50   # 50일동안의 데이터를 학습하고 51일째 주가를 예측.\n",
        "    time_length = 'Daily'\n",
        "elif (time == 1):\n",
        "    window_size = 100   # 100일동안의 데이터로 다음주 동안의 주가를 예측    \n",
        "    time_length = 'Weekly'"
      ]
    },
    {
      "cell_type": "code",
      "execution_count": null,
      "metadata": {
        "colab": {
          "base_uri": "https://localhost:8080/"
        },
        "id": "U5pOIIQ9gFI9",
        "outputId": "1f253c3d-de3c-4927-d383-32ae76f5407e"
      },
      "outputs": [
        {
          "output_type": "stream",
          "name": "stdout",
          "text": [
            "(468, 100, 1) (468, 5, 1)\n"
          ]
        }
      ],
      "source": [
        "X, y = make_sequence_dataset(feature_np, label_np, window_size, time)\n",
        "\n",
        "print(X.shape, y.shape)"
      ]
    },
    {
      "cell_type": "code",
      "execution_count": null,
      "metadata": {
        "colab": {
          "base_uri": "https://localhost:8080/"
        },
        "id": "gbHzo7ZNiKxA",
        "outputId": "e07450f6-a57f-4653-b423-d13df550fff1"
      },
      "outputs": [
        {
          "output_type": "stream",
          "name": "stdout",
          "text": [
            "(422, 100, 1) (422, 5, 1)\n",
            "(46, 100, 1) (46, 5, 1)\n"
          ]
        }
      ],
      "source": [
        "split = -int(X.shape[0] * 0.1)   # 90%를 훈련으로 사용\n",
        "\n",
        "X_train = X[0:split]\n",
        "y_train = y[0:split]\n",
        "\n",
        "X_test = X[split:]\n",
        "y_test = y[split:]\n",
        "\n",
        "print(X_train.shape, y_train.shape)\n",
        "print(X_test.shape, y_test.shape)"
      ]
    },
    {
      "cell_type": "code",
      "execution_count": null,
      "metadata": {
        "id": "Y0kxnJCtiwP1"
      },
      "outputs": [],
      "source": [
        "\n",
        "def build_model(hp):\n",
        "    model = Sequential()\n",
        "    model.add(LSTM(hp.Int('input_unit',min_value=32,max_value=512,step=32),return_sequences=True, input_shape=(X_train.shape[1],X_train.shape[2])))\n",
        "    for i in range(hp.Int('n_layers', 1, 4)):\n",
        "        model.add(LSTM(hp.Int(f'lstm_{i}_units',min_value=32,max_value=512,step=32),return_sequences=True))\n",
        "    model.add(LSTM(hp.Int('layer_2_neurons',min_value=32,max_value=512,step=32)))\n",
        "    model.add(Dropout(hp.Float('Dropout_rate',min_value=0,max_value=0.5,step=0.1)))\n",
        "    model.add(Dense(y_train.shape[1], activation=hp.Choice('dense_activation',values=['relu', 'tanh'],default='relu'))) \n",
        "    model.compile(loss='mean_squared_error', optimizer=hp.Choice('optimizer', values=['adam', 'SGD', 'rmsprop']),metrics = ['mse']) \n",
        "    return model"
      ]
    },
    {
      "cell_type": "code",
      "execution_count": null,
      "metadata": {
        "id": "kY0Yfm-E50mi"
      },
      "outputs": [],
      "source": [
        "es = EarlyStopping(\n",
        "\tmonitor=\"val_loss\",\n",
        "\tpatience=5,\n",
        "\trestore_best_weights=True)"
      ]
    },
    {
      "cell_type": "code",
      "execution_count": null,
      "metadata": {
        "id": "hYy_6bGGjwaT"
      },
      "outputs": [],
      "source": [
        "tuner= RandomSearch(\n",
        "        build_model,\n",
        "        objective='mse',\n",
        "        max_trials=2,\n",
        "        executions_per_trial=1,\n",
        "        overwrite=True\n",
        "        )"
      ]
    },
    {
      "cell_type": "code",
      "execution_count": null,
      "metadata": {
        "colab": {
          "base_uri": "https://localhost:8080/"
        },
        "id": "tHQau4i5kJWI",
        "outputId": "557989a2-6896-4c9b-9b63-68bf610c3ca0"
      },
      "outputs": [
        {
          "output_type": "stream",
          "name": "stdout",
          "text": [
            "Trial 2 Complete [00h 05m 28s]\n",
            "mse: 0.06532841175794601\n",
            "\n",
            "Best mse So Far: 0.0040236664935946465\n",
            "Total elapsed time: 00h 10m 54s\n",
            "INFO:tensorflow:Oracle triggered exit\n"
          ]
        }
      ],
      "source": [
        "tuner.search(\n",
        "        x=X_train,\n",
        "        y=y_train,\n",
        "        epochs=20,                              \n",
        "        batch_size=128,\n",
        "        validation_data=(X_test,y_test),\n",
        "        callbacks=[es]\n",
        ")"
      ]
    },
    {
      "cell_type": "code",
      "execution_count": null,
      "metadata": {
        "colab": {
          "base_uri": "https://localhost:8080/"
        },
        "id": "IfHCrtzrk2pF",
        "outputId": "7da242cf-1806-4010-a84a-0d3b68cad973"
      },
      "outputs": [
        {
          "output_type": "stream",
          "name": "stdout",
          "text": [
            "Results summary\n",
            "Results in ./untitled_project\n",
            "Showing 10 best trials\n",
            "<keras_tuner.engine.objective.Objective object at 0x7f8224dc2810>\n",
            "Trial summary\n",
            "Hyperparameters:\n",
            "input_unit: 384\n",
            "n_layers: 4\n",
            "lstm_0_units: 192\n",
            "layer_2_neurons: 384\n",
            "Dropout_rate: 0.0\n",
            "dense_activation: tanh\n",
            "optimizer: adam\n",
            "lstm_1_units: 32\n",
            "lstm_2_units: 32\n",
            "lstm_3_units: 32\n",
            "Score: 0.0040236664935946465\n",
            "Trial summary\n",
            "Hyperparameters:\n",
            "input_unit: 288\n",
            "n_layers: 4\n",
            "lstm_0_units: 384\n",
            "layer_2_neurons: 96\n",
            "Dropout_rate: 0.0\n",
            "dense_activation: relu\n",
            "optimizer: rmsprop\n",
            "lstm_1_units: 288\n",
            "lstm_2_units: 192\n",
            "lstm_3_units: 448\n",
            "Score: 0.06532841175794601\n"
          ]
        }
      ],
      "source": [
        "# Show a summary of the search\n",
        "tuner.results_summary()\n",
        "\n",
        "# Retrieve the best model.\n",
        "best_model = tuner.get_best_models(num_models=1)[0]"
      ]
    },
    {
      "cell_type": "code",
      "execution_count": null,
      "metadata": {
        "id": "UER7fD7kZ1vC"
      },
      "outputs": [],
      "source": [
        "if (time == 0):\n",
        "    t = 1 # 하루\n",
        "elif (time == 1):\n",
        "    t = 5 # 일주일\n",
        "\n",
        "if (param == 0):\n",
        "    f = 'c' # 종가\n",
        "elif (param == 1):\n",
        "    f = 'cv' # 종가 + 거래량    \n",
        "\n",
        "\n",
        "file_name = f'{stock_code}.{t}.{f}'"
      ]
    },
    {
      "cell_type": "code",
      "execution_count": null,
      "metadata": {
        "colab": {
          "base_uri": "https://localhost:8080/"
        },
        "id": "FXAswaW2uDqf",
        "outputId": "852522df-97a9-454b-8510-06a0be12cc0b"
      },
      "outputs": [
        {
          "output_type": "stream",
          "name": "stdout",
          "text": [
            "WARNING:tensorflow:Detecting that an object or model or tf.train.Checkpoint is being deleted with unrestored values. See the following logs for the specific values in question. To silence these warnings, use `status.expect_partial()`. See https://www.tensorflow.org/api_docs/python/tf/train/Checkpoint#restorefor details about the status object returned by the restore function.\n",
            "WARNING:tensorflow:Value in checkpoint could not be found in the restored object: (root).optimizer.iter\n",
            "WARNING:tensorflow:Value in checkpoint could not be found in the restored object: (root).optimizer.decay\n",
            "WARNING:tensorflow:Value in checkpoint could not be found in the restored object: (root).optimizer.learning_rate\n",
            "WARNING:tensorflow:Value in checkpoint could not be found in the restored object: (root).optimizer.momentum\n"
          ]
        }
      ],
      "source": [
        "best_model.save(f'/content/drive/MyDrive/models/{file_name}.h5') # 모델 저장"
      ]
    },
    {
      "cell_type": "code",
      "execution_count": null,
      "metadata": {
        "id": "1Cc055SJv56u"
      },
      "outputs": [],
      "source": [
        "new_model = tf.keras.models.load_model(f'/content/drive/MyDrive/models/{file_name}.h5', compile=False) # 모델 불러오기"
      ]
    },
    {
      "cell_type": "code",
      "execution_count": null,
      "metadata": {
        "colab": {
          "base_uri": "https://localhost:8080/"
        },
        "id": "rq6neelRnPjC",
        "outputId": "82ec3420-6db6-4726-b4ef-b41b2ea4bdc6"
      },
      "outputs": [
        {
          "output_type": "execute_result",
          "data": {
            "text/plain": [
              "DatetimeIndex(['2022-02-10', '2022-02-11', '2022-02-14', '2022-02-15',\n",
              "               '2022-02-16', '2022-02-17', '2022-02-18', '2022-02-24',\n",
              "               '2022-02-25', '2022-03-02', '2022-03-03', '2022-03-07',\n",
              "               '2022-03-08', '2022-03-11', '2022-03-14', '2022-03-16',\n",
              "               '2022-03-18', '2022-03-22', '2022-03-23', '2022-03-24',\n",
              "               '2022-03-25', '2022-03-28', '2022-03-29', '2022-03-30',\n",
              "               '2022-03-31', '2022-04-01', '2022-04-04', '2022-04-05',\n",
              "               '2022-04-06', '2022-04-07', '2022-04-08', '2022-04-11',\n",
              "               '2022-04-12', '2022-04-13', '2022-04-14', '2022-04-15',\n",
              "               '2022-04-18', '2022-04-19', '2022-04-20', '2022-04-21',\n",
              "               '2022-04-22', '2022-04-25', '2022-04-26', '2022-04-27',\n",
              "               '2022-04-28', '2022-04-29'],\n",
              "              dtype='datetime64[ns]', name='Date', freq=None)"
            ]
          },
          "metadata": {},
          "execution_count": 118
        }
      ],
      "source": [
        "df.index[split:]"
      ]
    },
    {
      "cell_type": "code",
      "execution_count": null,
      "metadata": {
        "colab": {
          "base_uri": "https://localhost:8080/"
        },
        "id": "VzFRm33GAUv8",
        "outputId": "6351c366-4bf1-48bd-d9b9-353a26a9d739"
      },
      "outputs": [
        {
          "output_type": "execute_result",
          "data": {
            "text/plain": [
              "DatetimeIndex(['2021-05-07', '2021-05-10', '2021-05-11', '2021-05-12',\n",
              "               '2021-05-13', '2021-05-14', '2021-05-17', '2021-05-18',\n",
              "               '2021-05-20', '2021-05-21',\n",
              "               ...\n",
              "               '2022-04-18', '2022-04-19', '2022-04-20', '2022-04-21',\n",
              "               '2022-04-22', '2022-04-25', '2022-04-26', '2022-04-27',\n",
              "               '2022-04-28', '2022-04-29'],\n",
              "              dtype='datetime64[ns]', name='Date', length=230, freq=None)"
            ]
          },
          "metadata": {},
          "execution_count": 119
        }
      ],
      "source": [
        "df.index[-len(df.index[split:])*5:]"
      ]
    },
    {
      "cell_type": "code",
      "execution_count": null,
      "metadata": {
        "colab": {
          "base_uri": "https://localhost:8080/"
        },
        "id": "YQh9CgM7AxXM",
        "outputId": "8945b2d4-f01b-4ae1-fbef-4ec193119a0e"
      },
      "outputs": [
        {
          "output_type": "execute_result",
          "data": {
            "text/plain": [
              "array([['2021-05-07T00:00:00.000000000', '2021-05-10T00:00:00.000000000',\n",
              "        '2021-05-11T00:00:00.000000000', '2021-05-12T00:00:00.000000000',\n",
              "        '2021-05-13T00:00:00.000000000'],\n",
              "       ['2021-05-14T00:00:00.000000000', '2021-05-17T00:00:00.000000000',\n",
              "        '2021-05-18T00:00:00.000000000', '2021-05-20T00:00:00.000000000',\n",
              "        '2021-05-21T00:00:00.000000000'],\n",
              "       ['2021-05-24T00:00:00.000000000', '2021-05-25T00:00:00.000000000',\n",
              "        '2021-05-26T00:00:00.000000000', '2021-05-27T00:00:00.000000000',\n",
              "        '2021-05-28T00:00:00.000000000'],\n",
              "       ['2021-05-31T00:00:00.000000000', '2021-06-01T00:00:00.000000000',\n",
              "        '2021-06-02T00:00:00.000000000', '2021-06-03T00:00:00.000000000',\n",
              "        '2021-06-04T00:00:00.000000000'],\n",
              "       ['2021-06-07T00:00:00.000000000', '2021-06-08T00:00:00.000000000',\n",
              "        '2021-06-09T00:00:00.000000000', '2021-06-10T00:00:00.000000000',\n",
              "        '2021-06-11T00:00:00.000000000'],\n",
              "       ['2021-06-14T00:00:00.000000000', '2021-06-15T00:00:00.000000000',\n",
              "        '2021-06-16T00:00:00.000000000', '2021-06-17T00:00:00.000000000',\n",
              "        '2021-06-18T00:00:00.000000000'],\n",
              "       ['2021-06-21T00:00:00.000000000', '2021-06-22T00:00:00.000000000',\n",
              "        '2021-06-23T00:00:00.000000000', '2021-06-24T00:00:00.000000000',\n",
              "        '2021-06-25T00:00:00.000000000'],\n",
              "       ['2021-06-28T00:00:00.000000000', '2021-06-29T00:00:00.000000000',\n",
              "        '2021-06-30T00:00:00.000000000', '2021-07-01T00:00:00.000000000',\n",
              "        '2021-07-02T00:00:00.000000000'],\n",
              "       ['2021-07-05T00:00:00.000000000', '2021-07-06T00:00:00.000000000',\n",
              "        '2021-07-07T00:00:00.000000000', '2021-07-08T00:00:00.000000000',\n",
              "        '2021-07-09T00:00:00.000000000'],\n",
              "       ['2021-07-12T00:00:00.000000000', '2021-07-13T00:00:00.000000000',\n",
              "        '2021-07-14T00:00:00.000000000', '2021-07-15T00:00:00.000000000',\n",
              "        '2021-07-16T00:00:00.000000000'],\n",
              "       ['2021-07-19T00:00:00.000000000', '2021-07-20T00:00:00.000000000',\n",
              "        '2021-07-21T00:00:00.000000000', '2021-07-22T00:00:00.000000000',\n",
              "        '2021-07-23T00:00:00.000000000'],\n",
              "       ['2021-07-26T00:00:00.000000000', '2021-07-27T00:00:00.000000000',\n",
              "        '2021-07-28T00:00:00.000000000', '2021-07-29T00:00:00.000000000',\n",
              "        '2021-07-30T00:00:00.000000000'],\n",
              "       ['2021-08-02T00:00:00.000000000', '2021-08-03T00:00:00.000000000',\n",
              "        '2021-08-04T00:00:00.000000000', '2021-08-05T00:00:00.000000000',\n",
              "        '2021-08-06T00:00:00.000000000'],\n",
              "       ['2021-08-09T00:00:00.000000000', '2021-08-10T00:00:00.000000000',\n",
              "        '2021-08-11T00:00:00.000000000', '2021-08-12T00:00:00.000000000',\n",
              "        '2021-08-13T00:00:00.000000000'],\n",
              "       ['2021-08-17T00:00:00.000000000', '2021-08-18T00:00:00.000000000',\n",
              "        '2021-08-19T00:00:00.000000000', '2021-08-20T00:00:00.000000000',\n",
              "        '2021-08-23T00:00:00.000000000'],\n",
              "       ['2021-08-24T00:00:00.000000000', '2021-08-25T00:00:00.000000000',\n",
              "        '2021-08-26T00:00:00.000000000', '2021-08-27T00:00:00.000000000',\n",
              "        '2021-08-30T00:00:00.000000000'],\n",
              "       ['2021-08-31T00:00:00.000000000', '2021-09-01T00:00:00.000000000',\n",
              "        '2021-09-02T00:00:00.000000000', '2021-09-03T00:00:00.000000000',\n",
              "        '2021-09-06T00:00:00.000000000'],\n",
              "       ['2021-09-07T00:00:00.000000000', '2021-09-08T00:00:00.000000000',\n",
              "        '2021-09-09T00:00:00.000000000', '2021-09-10T00:00:00.000000000',\n",
              "        '2021-09-13T00:00:00.000000000'],\n",
              "       ['2021-09-14T00:00:00.000000000', '2021-09-15T00:00:00.000000000',\n",
              "        '2021-09-16T00:00:00.000000000', '2021-09-17T00:00:00.000000000',\n",
              "        '2021-09-23T00:00:00.000000000'],\n",
              "       ['2021-09-24T00:00:00.000000000', '2021-09-27T00:00:00.000000000',\n",
              "        '2021-09-28T00:00:00.000000000', '2021-09-29T00:00:00.000000000',\n",
              "        '2021-09-30T00:00:00.000000000'],\n",
              "       ['2021-10-01T00:00:00.000000000', '2021-10-05T00:00:00.000000000',\n",
              "        '2021-10-06T00:00:00.000000000', '2021-10-07T00:00:00.000000000',\n",
              "        '2021-10-08T00:00:00.000000000'],\n",
              "       ['2021-10-12T00:00:00.000000000', '2021-10-13T00:00:00.000000000',\n",
              "        '2021-10-14T00:00:00.000000000', '2021-10-15T00:00:00.000000000',\n",
              "        '2021-10-18T00:00:00.000000000'],\n",
              "       ['2021-10-19T00:00:00.000000000', '2021-10-20T00:00:00.000000000',\n",
              "        '2021-10-21T00:00:00.000000000', '2021-10-22T00:00:00.000000000',\n",
              "        '2021-10-25T00:00:00.000000000'],\n",
              "       ['2021-10-26T00:00:00.000000000', '2021-10-27T00:00:00.000000000',\n",
              "        '2021-10-28T00:00:00.000000000', '2021-10-29T00:00:00.000000000',\n",
              "        '2021-11-01T00:00:00.000000000'],\n",
              "       ['2021-11-02T00:00:00.000000000', '2021-11-03T00:00:00.000000000',\n",
              "        '2021-11-04T00:00:00.000000000', '2021-11-05T00:00:00.000000000',\n",
              "        '2021-11-08T00:00:00.000000000'],\n",
              "       ['2021-11-09T00:00:00.000000000', '2021-11-10T00:00:00.000000000',\n",
              "        '2021-11-11T00:00:00.000000000', '2021-11-12T00:00:00.000000000',\n",
              "        '2021-11-15T00:00:00.000000000'],\n",
              "       ['2021-11-16T00:00:00.000000000', '2021-11-17T00:00:00.000000000',\n",
              "        '2021-11-18T00:00:00.000000000', '2021-11-19T00:00:00.000000000',\n",
              "        '2021-11-22T00:00:00.000000000'],\n",
              "       ['2021-11-23T00:00:00.000000000', '2021-11-24T00:00:00.000000000',\n",
              "        '2021-11-25T00:00:00.000000000', '2021-11-26T00:00:00.000000000',\n",
              "        '2021-11-29T00:00:00.000000000'],\n",
              "       ['2021-11-30T00:00:00.000000000', '2021-12-01T00:00:00.000000000',\n",
              "        '2021-12-02T00:00:00.000000000', '2021-12-03T00:00:00.000000000',\n",
              "        '2021-12-06T00:00:00.000000000'],\n",
              "       ['2021-12-07T00:00:00.000000000', '2021-12-08T00:00:00.000000000',\n",
              "        '2021-12-09T00:00:00.000000000', '2021-12-10T00:00:00.000000000',\n",
              "        '2021-12-13T00:00:00.000000000'],\n",
              "       ['2021-12-14T00:00:00.000000000', '2021-12-15T00:00:00.000000000',\n",
              "        '2021-12-16T00:00:00.000000000', '2021-12-17T00:00:00.000000000',\n",
              "        '2021-12-20T00:00:00.000000000'],\n",
              "       ['2021-12-21T00:00:00.000000000', '2021-12-22T00:00:00.000000000',\n",
              "        '2021-12-23T00:00:00.000000000', '2021-12-24T00:00:00.000000000',\n",
              "        '2021-12-27T00:00:00.000000000'],\n",
              "       ['2021-12-28T00:00:00.000000000', '2021-12-29T00:00:00.000000000',\n",
              "        '2021-12-30T00:00:00.000000000', '2022-01-04T00:00:00.000000000',\n",
              "        '2022-01-05T00:00:00.000000000'],\n",
              "       ['2022-01-06T00:00:00.000000000', '2022-01-07T00:00:00.000000000',\n",
              "        '2022-01-10T00:00:00.000000000', '2022-01-11T00:00:00.000000000',\n",
              "        '2022-01-12T00:00:00.000000000'],\n",
              "       ['2022-01-13T00:00:00.000000000', '2022-01-14T00:00:00.000000000',\n",
              "        '2022-01-17T00:00:00.000000000', '2022-01-18T00:00:00.000000000',\n",
              "        '2022-01-19T00:00:00.000000000'],\n",
              "       ['2022-01-20T00:00:00.000000000', '2022-01-21T00:00:00.000000000',\n",
              "        '2022-01-24T00:00:00.000000000', '2022-01-25T00:00:00.000000000',\n",
              "        '2022-01-27T00:00:00.000000000'],\n",
              "       ['2022-01-28T00:00:00.000000000', '2022-02-03T00:00:00.000000000',\n",
              "        '2022-02-04T00:00:00.000000000', '2022-02-07T00:00:00.000000000',\n",
              "        '2022-02-10T00:00:00.000000000'],\n",
              "       ['2022-02-11T00:00:00.000000000', '2022-02-14T00:00:00.000000000',\n",
              "        '2022-02-15T00:00:00.000000000', '2022-02-16T00:00:00.000000000',\n",
              "        '2022-02-17T00:00:00.000000000'],\n",
              "       ['2022-02-18T00:00:00.000000000', '2022-02-24T00:00:00.000000000',\n",
              "        '2022-02-25T00:00:00.000000000', '2022-03-02T00:00:00.000000000',\n",
              "        '2022-03-03T00:00:00.000000000'],\n",
              "       ['2022-03-07T00:00:00.000000000', '2022-03-08T00:00:00.000000000',\n",
              "        '2022-03-11T00:00:00.000000000', '2022-03-14T00:00:00.000000000',\n",
              "        '2022-03-16T00:00:00.000000000'],\n",
              "       ['2022-03-18T00:00:00.000000000', '2022-03-22T00:00:00.000000000',\n",
              "        '2022-03-23T00:00:00.000000000', '2022-03-24T00:00:00.000000000',\n",
              "        '2022-03-25T00:00:00.000000000'],\n",
              "       ['2022-03-28T00:00:00.000000000', '2022-03-29T00:00:00.000000000',\n",
              "        '2022-03-30T00:00:00.000000000', '2022-03-31T00:00:00.000000000',\n",
              "        '2022-04-01T00:00:00.000000000'],\n",
              "       ['2022-04-04T00:00:00.000000000', '2022-04-05T00:00:00.000000000',\n",
              "        '2022-04-06T00:00:00.000000000', '2022-04-07T00:00:00.000000000',\n",
              "        '2022-04-08T00:00:00.000000000'],\n",
              "       ['2022-04-11T00:00:00.000000000', '2022-04-12T00:00:00.000000000',\n",
              "        '2022-04-13T00:00:00.000000000', '2022-04-14T00:00:00.000000000',\n",
              "        '2022-04-15T00:00:00.000000000'],\n",
              "       ['2022-04-18T00:00:00.000000000', '2022-04-19T00:00:00.000000000',\n",
              "        '2022-04-20T00:00:00.000000000', '2022-04-21T00:00:00.000000000',\n",
              "        '2022-04-22T00:00:00.000000000'],\n",
              "       ['2022-04-25T00:00:00.000000000', '2022-04-26T00:00:00.000000000',\n",
              "        '2022-04-27T00:00:00.000000000', '2022-04-28T00:00:00.000000000',\n",
              "        '2022-04-29T00:00:00.000000000']], dtype='datetime64[ns]')"
            ]
          },
          "metadata": {},
          "execution_count": 120
        }
      ],
      "source": [
        "time_arr = np.array(df.index[-len(df.index[split:])*5:]).reshape((-1, 5))\n",
        "time_arr"
      ]
    },
    {
      "cell_type": "code",
      "execution_count": null,
      "metadata": {
        "colab": {
          "base_uri": "https://localhost:8080/"
        },
        "id": "DZHPawFJualu",
        "outputId": "ff18a90f-3f62-4dcb-dabe-98fe88535ce4"
      },
      "outputs": [
        {
          "output_type": "stream",
          "name": "stdout",
          "text": [
            "[[0.7817339  0.78155637 0.78184575 0.78006357 0.7731105 ]\n",
            " [0.81222093 0.811692   0.8119177  0.8097862  0.80317044]\n",
            " [0.840104   0.83915174 0.83914554 0.8367074  0.83097357]\n",
            " [0.8552684  0.854344   0.8535228  0.85050166 0.8468765 ]\n",
            " [0.84531575 0.8457905  0.8433084  0.8392026  0.8383762 ]\n",
            " [0.8101021  0.8140935  0.80937195 0.8043825  0.80501294]\n",
            " [0.7690803  0.7772349  0.770992   0.7665186  0.7655185 ]\n",
            " [0.7467073  0.7561543  0.75010556 0.7473446  0.7431622 ]\n",
            " [0.74715346 0.75467515 0.7499257  0.7485389  0.742315  ]\n",
            " [0.7603669  0.76517415 0.76182735 0.7607829  0.7540819 ]\n",
            " [0.77189916 0.774922   0.7721428  0.77075815 0.765062  ]\n",
            " [0.7718551  0.77467304 0.7716337  0.7696457  0.7652753 ]\n",
            " [0.7638358  0.7675881  0.7642023  0.7618029  0.75766414]\n",
            " [0.7660492  0.7702799  0.76756907 0.7652739  0.7594007 ]\n",
            " [0.7830716  0.7860772  0.7841089  0.7821998  0.7758816 ]\n",
            " [0.78817916 0.79027826 0.7876265  0.7854955  0.78151417]\n",
            " [0.7639099  0.7675281  0.7629225  0.7601072  0.75886554]\n",
            " [0.7187435  0.72620666 0.719703   0.7167367  0.7155912 ]\n",
            " [0.69902056 0.7086589  0.7034575  0.7014958  0.69518936]\n",
            " [0.7389476  0.7447096  0.74323624 0.74266857 0.7318245 ]\n",
            " [0.79450494 0.79496473 0.7949675  0.7945325  0.7856696 ]\n",
            " [0.81338626 0.81223404 0.81099385 0.80921566 0.8053661 ]\n",
            " [0.7824719  0.7839412  0.7797613  0.77619267 0.77683955]\n",
            " [0.7209964  0.72879535 0.7217232  0.7175361  0.7183316 ]\n",
            " [0.67712337 0.68922144 0.6817954  0.67931706 0.6757698 ]\n",
            " [0.66106814 0.67182505 0.6651837  0.6649623  0.65944034]\n",
            " [0.64133465 0.64975846 0.6431338  0.64382505 0.6397272 ]\n",
            " [0.60233706 0.6108166  0.60361266 0.60427725 0.6017548 ]\n",
            " [0.55958956 0.5695576  0.5625891  0.56328017 0.5599444 ]\n",
            " [0.537255   0.547022   0.541652   0.54282093 0.5374312 ]\n",
            " [0.53480977 0.54221976 0.53882104 0.54032445 0.53400445]\n",
            " [0.5509306  0.55570304 0.5546316  0.5558036  0.5483893 ]\n",
            " [0.5788737  0.5809478  0.58141005 0.5821715  0.5750096 ]\n",
            " [0.5929466  0.59349257 0.5936918  0.5939413  0.5891482 ]\n",
            " [0.5859941  0.58753383 0.5868505  0.5864188  0.5829218 ]\n",
            " [0.5894743  0.5927788  0.5926846  0.5919674  0.5858834 ]\n",
            " [0.6180208  0.620299   0.62104005 0.620842   0.61340666]\n",
            " [0.6239048  0.6244763  0.62353486 0.6235543  0.62033224]\n",
            " [0.57493865 0.5780018  0.57381606 0.57322794 0.5743144 ]\n",
            " [0.5216825  0.5304783  0.5256886  0.52488613 0.52254915]\n",
            " [0.52662206 0.5355199  0.53340936 0.5339251  0.5258125 ]\n",
            " [0.56328017 0.56710327 0.56709415 0.5685466  0.560264  ]\n",
            " [0.5929472  0.5935884  0.59447616 0.5952262  0.5884392 ]\n",
            " [0.61709684 0.6171362  0.6183491  0.6181598  0.61191356]\n",
            " [0.6261401  0.626332   0.62647736 0.6259028  0.62168616]\n",
            " [0.60707945 0.60903955 0.6072296  0.6063508  0.60430855]]\n"
          ]
        }
      ],
      "source": [
        "pred = new_model.predict(X_test)\n",
        "print(pred)"
      ]
    },
    {
      "cell_type": "code",
      "execution_count": null,
      "metadata": {
        "colab": {
          "base_uri": "https://localhost:8080/",
          "height": 404
        },
        "id": "4DjzfTCbvQAH",
        "outputId": "16a432c3-e161-48b9-c299-2ad12e83e37b"
      },
      "outputs": [
        {
          "output_type": "display_data",
          "data": {
            "text/plain": [
              "<Figure size 864x432 with 1 Axes>"
            ],
            "image/png": "[encoded data removed]"
          },
          "metadata": {
            "needs_background": "light"
          }
        }
      ],
      "source": [
        "plt.figure(figsize=(12, 6))\n",
        "\n",
        "plt.title(f'{time_length} Close, window_size={window_size}')\n",
        "plt.ylabel('Close(Won)')\n",
        "plt.xlabel('Date')\n",
        "\n",
        "if (time == 0): \n",
        "    plt.plot(df.index[split:], y_test, label='actual')\n",
        "    plt.plot(df.index[split:], pred, label='prediction')\n",
        "elif (time == 1):    \n",
        "    plt.plot(time_arr.flatten(), y_test.flatten(), label='actual')\n",
        "    plt.plot(time_arr.flatten(), pred.flatten(), label='prediction')\n",
        "\n",
        "plt.grid()\n",
        "plt.legend(loc='best')\n",
        "plt.show()"
      ]
    },
    {
      "cell_type": "code",
      "execution_count": null,
      "metadata": {
        "id": "vVUCW8O9HL5H"
      },
      "outputs": [],
      "source": [
        "X_for_predict = scaled_df[feature_cols].values[-window_size:].reshape(1, window_size, len(feature_cols))"
      ]
    },
    {
      "cell_type": "code",
      "execution_count": null,
      "metadata": {
        "colab": {
          "base_uri": "https://localhost:8080/"
        },
        "id": "LEzy92G-HgH4",
        "outputId": "8ed68cb6-50f8-4130-9cb5-337b7883d80c"
      },
      "outputs": [
        {
          "output_type": "execute_result",
          "data": {
            "text/plain": [
              "array([[0.580785  , 0.5858372 , 0.58316964, 0.58227247, 0.5790567 ]],\n",
              "      dtype=float32)"
            ]
          },
          "metadata": {},
          "execution_count": 124
        }
      ],
      "source": [
        "result = new_model.predict(X_for_predict)\n",
        "result # 미래 예측값"
      ]
    },
    {
      "cell_type": "code",
      "execution_count": null,
      "metadata": {
        "colab": {
          "base_uri": "https://localhost:8080/"
        },
        "id": "MgKF05UiRL2F",
        "outputId": "721a0311-fa58-4125-f933-33f6e16844b4"
      },
      "outputs": [
        {
          "output_type": "execute_result",
          "data": {
            "text/plain": [
              "array([[375500., 130640.],\n",
              "       [376000., 173976.],\n",
              "       [374000.,  97247.],\n",
              "       ...,\n",
              "       [278000., 304986.],\n",
              "       [290000., 341213.],\n",
              "       [289000., 178473.]])"
            ]
          },
          "metadata": {},
          "execution_count": 125
        }
      ],
      "source": [
        "scale_back = scaler.inverse_transform(scaled_df) # 원래 값으로\n",
        "scale_back"
      ]
    },
    {
      "cell_type": "code",
      "execution_count": null,
      "metadata": {
        "colab": {
          "base_uri": "https://localhost:8080/",
          "height": 424
        },
        "id": "raZtnr8dSRwt",
        "outputId": "ce705e19-d4c0-45c8-a794-dfa20e237758"
      },
      "outputs": [
        {
          "output_type": "execute_result",
          "data": {
            "text/plain": [
              "             0         1\n",
              "0     375500.0  130640.0\n",
              "1     376000.0  173976.0\n",
              "2     374000.0   97247.0\n",
              "3     374000.0  143503.0\n",
              "4     370000.0  207154.0\n",
              "...        ...       ...\n",
              "2438  286000.0  251867.0\n",
              "2439  284000.0  302521.0\n",
              "2440  278000.0  304986.0\n",
              "2441  290000.0  341213.0\n",
              "2442  289000.0  178473.0\n",
              "\n",
              "[2443 rows x 2 columns]"
            ],
            "text/html": [
              "\n",
              "  <div id=\"df-2e4dc3dd-fc69-47ef-b164-760b5379d947\">\n",
              "    <div class=\"colab-df-container\">\n",
              "      <div>\n",
              "<style scoped>\n",
              "    .dataframe tbody tr th:only-of-type {\n",
              "        vertical-align: middle;\n",
              "    }\n",
              "\n",
              "    .dataframe tbody tr th {\n",
              "        vertical-align: top;\n",
              "    }\n",
              "\n",
              "    .dataframe thead th {\n",
              "        text-align: right;\n",
              "    }\n",
              "</style>\n",
              "<table border=\"1\" class=\"dataframe\">\n",
              "  <thead>\n",
              "    <tr style=\"text-align: right;\">\n",
              "      <th></th>\n",
              "      <th>0</th>\n",
              "      <th>1</th>\n",
              "    </tr>\n",
              "  </thead>\n",
              "  <tbody>\n",
              "    <tr>\n",
              "      <th>0</th>\n",
              "      <td>375500.0</td>\n",
              "      <td>130640.0</td>\n",
              "    </tr>\n",
              "    <tr>\n",
              "      <th>1</th>\n",
              "      <td>376000.0</td>\n",
              "      <td>173976.0</td>\n",
              "    </tr>\n",
              "    <tr>\n",
              "      <th>2</th>\n",
              "      <td>374000.0</td>\n",
              "      <td>97247.0</td>\n",
              "    </tr>\n",
              "    <tr>\n",
              "      <th>3</th>\n",
              "      <td>374000.0</td>\n",
              "      <td>143503.0</td>\n",
              "    </tr>\n",
              "    <tr>\n",
              "      <th>4</th>\n",
              "      <td>370000.0</td>\n",
              "      <td>207154.0</td>\n",
              "    </tr>\n",
              "    <tr>\n",
              "      <th>...</th>\n",
              "      <td>...</td>\n",
              "      <td>...</td>\n",
              "    </tr>\n",
              "    <tr>\n",
              "      <th>2438</th>\n",
              "      <td>286000.0</td>\n",
              "      <td>251867.0</td>\n",
              "    </tr>\n",
              "    <tr>\n",
              "      <th>2439</th>\n",
              "      <td>284000.0</td>\n",
              "      <td>302521.0</td>\n",
              "    </tr>\n",
              "    <tr>\n",
              "      <th>2440</th>\n",
              "      <td>278000.0</td>\n",
              "      <td>304986.0</td>\n",
              "    </tr>\n",
              "    <tr>\n",
              "      <th>2441</th>\n",
              "      <td>290000.0</td>\n",
              "      <td>341213.0</td>\n",
              "    </tr>\n",
              "    <tr>\n",
              "      <th>2442</th>\n",
              "      <td>289000.0</td>\n",
              "      <td>178473.0</td>\n",
              "    </tr>\n",
              "  </tbody>\n",
              "</table>\n",
              "<p>2443 rows × 2 columns</p>\n",
              "</div>\n",
              "      <button class=\"colab-df-convert\" onclick=\"convertToInteractive('df-2e4dc3dd-fc69-47ef-b164-760b5379d947')\"\n",
              "              title=\"Convert this dataframe to an interactive table.\"\n",
              "              style=\"display:none;\">\n",
              "        \n",
              "  <svg xmlns=\"http://www.w3.org/2000/svg\" height=\"24px\"viewBox=\"0 0 24 24\"\n",
              "       width=\"24px\">\n",
              "    <path d=\"M0 0h24v24H0V0z\" fill=\"none\"/>\n",
              "    <path d=\"M18.56 5.44l.94 2.06.94-2.06 2.06-.94-2.06-.94-.94-2.06-.94 2.06-2.06.94zm-11 1L8.5 8.5l.94-2.06 2.06-.94-2.06-.94L8.5 2.5l-.94 2.06-2.06.94zm10 10l.94 2.06.94-2.06 2.06-.94-2.06-.94-.94-2.06-.94 2.06-2.06.94z\"/><path d=\"M17.41 7.96l-1.37-1.37c-.4-.4-.92-.59-1.43-.59-.52 0-1.04.2-1.43.59L10.3 9.45l-7.72 7.72c-.78.78-.78 2.05 0 2.83L4 21.41c.39.39.9.59 1.41.59.51 0 1.02-.2 1.41-.59l7.78-7.78 2.81-2.81c.8-.78.8-2.07 0-2.86zM5.41 20L4 18.59l7.72-7.72 1.47 1.35L5.41 20z\"/>\n",
              "  </svg>\n",
              "      </button>\n",
              "      \n",
              "  <style>\n",
              "    .colab-df-container {\n",
              "      display:flex;\n",
              "      flex-wrap:wrap;\n",
              "      gap: 12px;\n",
              "    }\n",
              "\n",
              "    .colab-df-convert {\n",
              "      background-color: #E8F0FE;\n",
              "      border: none;\n",
              "      border-radius: 50%;\n",
              "      cursor: pointer;\n",
              "      display: none;\n",
              "      fill: #1967D2;\n",
              "      height: 32px;\n",
              "      padding: 0 0 0 0;\n",
              "      width: 32px;\n",
              "    }\n",
              "\n",
              "    .colab-df-convert:hover {\n",
              "      background-color: #E2EBFA;\n",
              "      box-shadow: 0px 1px 2px rgba(60, 64, 67, 0.3), 0px 1px 3px 1px rgba(60, 64, 67, 0.15);\n",
              "      fill: #174EA6;\n",
              "    }\n",
              "\n",
              "    [theme=dark] .colab-df-convert {\n",
              "      background-color: #3B4455;\n",
              "      fill: #D2E3FC;\n",
              "    }\n",
              "\n",
              "    [theme=dark] .colab-df-convert:hover {\n",
              "      background-color: #434B5C;\n",
              "      box-shadow: 0px 1px 3px 1px rgba(0, 0, 0, 0.15);\n",
              "      filter: drop-shadow(0px 1px 2px rgba(0, 0, 0, 0.3));\n",
              "      fill: #FFFFFF;\n",
              "    }\n",
              "  </style>\n",
              "\n",
              "      <script>\n",
              "        const buttonEl =\n",
              "          document.querySelector('#df-2e4dc3dd-fc69-47ef-b164-760b5379d947 button.colab-df-convert');\n",
              "        buttonEl.style.display =\n",
              "          google.colab.kernel.accessAllowed ? 'block' : 'none';\n",
              "\n",
              "        async function convertToInteractive(key) {\n",
              "          const element = document.querySelector('#df-2e4dc3dd-fc69-47ef-b164-760b5379d947');\n",
              "          const dataTable =\n",
              "            await google.colab.kernel.invokeFunction('convertToInteractive',\n",
              "                                                     [key], {});\n",
              "          if (!dataTable) return;\n",
              "\n",
              "          const docLinkHtml = 'Like what you see? Visit the ' +\n",
              "            '<a target=\"_blank\" href=https://colab.research.google.com/notebooks/data_table.ipynb>data table notebook</a>'\n",
              "            + ' to learn more about interactive tables.';\n",
              "          element.innerHTML = '';\n",
              "          dataTable['output_type'] = 'display_data';\n",
              "          await google.colab.output.renderOutput(dataTable, element);\n",
              "          const docLink = document.createElement('div');\n",
              "          docLink.innerHTML = docLinkHtml;\n",
              "          element.appendChild(docLink);\n",
              "        }\n",
              "      </script>\n",
              "    </div>\n",
              "  </div>\n",
              "  "
            ]
          },
          "metadata": {},
          "execution_count": 126
        }
      ],
      "source": [
        "scale_back_df = pd.DataFrame(scale_back)    # 기존 데이터 원래 값으로\n",
        "scale_back_df"
      ]
    },
    {
      "cell_type": "code",
      "execution_count": null,
      "metadata": {
        "colab": {
          "base_uri": "https://localhost:8080/",
          "height": 300
        },
        "id": "QNQSnIJLUvh1",
        "outputId": "7505c1bb-962c-4ffc-ac2d-0a816fe43775"
      },
      "outputs": [
        {
          "output_type": "execute_result",
          "data": {
            "text/plain": [
              "                   0             1\n",
              "count    2443.000000  2.443000e+03\n",
              "mean   279061.809251  2.893778e+05\n",
              "std     58273.929037  1.899060e+05\n",
              "min    138000.000000  4.421500e+04\n",
              "25%    233750.000000  1.754780e+05\n",
              "50%    282500.000000  2.442100e+05\n",
              "75%    325250.000000  3.479785e+05\n",
              "max    409500.000000  3.417026e+06"
            ],
            "text/html": [
              "\n",
              "  <div id=\"df-90551593-4513-42b2-96e8-f336d76af5e2\">\n",
              "    <div class=\"colab-df-container\">\n",
              "      <div>\n",
              "<style scoped>\n",
              "    .dataframe tbody tr th:only-of-type {\n",
              "        vertical-align: middle;\n",
              "    }\n",
              "\n",
              "    .dataframe tbody tr th {\n",
              "        vertical-align: top;\n",
              "    }\n",
              "\n",
              "    .dataframe thead th {\n",
              "        text-align: right;\n",
              "    }\n",
              "</style>\n",
              "<table border=\"1\" class=\"dataframe\">\n",
              "  <thead>\n",
              "    <tr style=\"text-align: right;\">\n",
              "      <th></th>\n",
              "      <th>0</th>\n",
              "      <th>1</th>\n",
              "    </tr>\n",
              "  </thead>\n",
              "  <tbody>\n",
              "    <tr>\n",
              "      <th>count</th>\n",
              "      <td>2443.000000</td>\n",
              "      <td>2.443000e+03</td>\n",
              "    </tr>\n",
              "    <tr>\n",
              "      <th>mean</th>\n",
              "      <td>279061.809251</td>\n",
              "      <td>2.893778e+05</td>\n",
              "    </tr>\n",
              "    <tr>\n",
              "      <th>std</th>\n",
              "      <td>58273.929037</td>\n",
              "      <td>1.899060e+05</td>\n",
              "    </tr>\n",
              "    <tr>\n",
              "      <th>min</th>\n",
              "      <td>138000.000000</td>\n",
              "      <td>4.421500e+04</td>\n",
              "    </tr>\n",
              "    <tr>\n",
              "      <th>25%</th>\n",
              "      <td>233750.000000</td>\n",
              "      <td>1.754780e+05</td>\n",
              "    </tr>\n",
              "    <tr>\n",
              "      <th>50%</th>\n",
              "      <td>282500.000000</td>\n",
              "      <td>2.442100e+05</td>\n",
              "    </tr>\n",
              "    <tr>\n",
              "      <th>75%</th>\n",
              "      <td>325250.000000</td>\n",
              "      <td>3.479785e+05</td>\n",
              "    </tr>\n",
              "    <tr>\n",
              "      <th>max</th>\n",
              "      <td>409500.000000</td>\n",
              "      <td>3.417026e+06</td>\n",
              "    </tr>\n",
              "  </tbody>\n",
              "</table>\n",
              "</div>\n",
              "      <button class=\"colab-df-convert\" onclick=\"convertToInteractive('df-90551593-4513-42b2-96e8-f336d76af5e2')\"\n",
              "              title=\"Convert this dataframe to an interactive table.\"\n",
              "              style=\"display:none;\">\n",
              "        \n",
              "  <svg xmlns=\"http://www.w3.org/2000/svg\" height=\"24px\"viewBox=\"0 0 24 24\"\n",
              "       width=\"24px\">\n",
              "    <path d=\"M0 0h24v24H0V0z\" fill=\"none\"/>\n",
              "    <path d=\"M18.56 5.44l.94 2.06.94-2.06 2.06-.94-2.06-.94-.94-2.06-.94 2.06-2.06.94zm-11 1L8.5 8.5l.94-2.06 2.06-.94-2.06-.94L8.5 2.5l-.94 2.06-2.06.94zm10 10l.94 2.06.94-2.06 2.06-.94-2.06-.94-.94-2.06-.94 2.06-2.06.94z\"/><path d=\"M17.41 7.96l-1.37-1.37c-.4-.4-.92-.59-1.43-.59-.52 0-1.04.2-1.43.59L10.3 9.45l-7.72 7.72c-.78.78-.78 2.05 0 2.83L4 21.41c.39.39.9.59 1.41.59.51 0 1.02-.2 1.41-.59l7.78-7.78 2.81-2.81c.8-.78.8-2.07 0-2.86zM5.41 20L4 18.59l7.72-7.72 1.47 1.35L5.41 20z\"/>\n",
              "  </svg>\n",
              "      </button>\n",
              "      \n",
              "  <style>\n",
              "    .colab-df-container {\n",
              "      display:flex;\n",
              "      flex-wrap:wrap;\n",
              "      gap: 12px;\n",
              "    }\n",
              "\n",
              "    .colab-df-convert {\n",
              "      background-color: #E8F0FE;\n",
              "      border: none;\n",
              "      border-radius: 50%;\n",
              "      cursor: pointer;\n",
              "      display: none;\n",
              "      fill: #1967D2;\n",
              "      height: 32px;\n",
              "      padding: 0 0 0 0;\n",
              "      width: 32px;\n",
              "    }\n",
              "\n",
              "    .colab-df-convert:hover {\n",
              "      background-color: #E2EBFA;\n",
              "      box-shadow: 0px 1px 2px rgba(60, 64, 67, 0.3), 0px 1px 3px 1px rgba(60, 64, 67, 0.15);\n",
              "      fill: #174EA6;\n",
              "    }\n",
              "\n",
              "    [theme=dark] .colab-df-convert {\n",
              "      background-color: #3B4455;\n",
              "      fill: #D2E3FC;\n",
              "    }\n",
              "\n",
              "    [theme=dark] .colab-df-convert:hover {\n",
              "      background-color: #434B5C;\n",
              "      box-shadow: 0px 1px 3px 1px rgba(0, 0, 0, 0.15);\n",
              "      filter: drop-shadow(0px 1px 2px rgba(0, 0, 0, 0.3));\n",
              "      fill: #FFFFFF;\n",
              "    }\n",
              "  </style>\n",
              "\n",
              "      <script>\n",
              "        const buttonEl =\n",
              "          document.querySelector('#df-90551593-4513-42b2-96e8-f336d76af5e2 button.colab-df-convert');\n",
              "        buttonEl.style.display =\n",
              "          google.colab.kernel.accessAllowed ? 'block' : 'none';\n",
              "\n",
              "        async function convertToInteractive(key) {\n",
              "          const element = document.querySelector('#df-90551593-4513-42b2-96e8-f336d76af5e2');\n",
              "          const dataTable =\n",
              "            await google.colab.kernel.invokeFunction('convertToInteractive',\n",
              "                                                     [key], {});\n",
              "          if (!dataTable) return;\n",
              "\n",
              "          const docLinkHtml = 'Like what you see? Visit the ' +\n",
              "            '<a target=\"_blank\" href=https://colab.research.google.com/notebooks/data_table.ipynb>data table notebook</a>'\n",
              "            + ' to learn more about interactive tables.';\n",
              "          element.innerHTML = '';\n",
              "          dataTable['output_type'] = 'display_data';\n",
              "          await google.colab.output.renderOutput(dataTable, element);\n",
              "          const docLink = document.createElement('div');\n",
              "          docLink.innerHTML = docLinkHtml;\n",
              "          element.appendChild(docLink);\n",
              "        }\n",
              "      </script>\n",
              "    </div>\n",
              "  </div>\n",
              "  "
            ]
          },
          "metadata": {},
          "execution_count": 127
        }
      ],
      "source": [
        "scale_back_df.describe()"
      ]
    },
    {
      "cell_type": "code",
      "execution_count": null,
      "metadata": {
        "colab": {
          "base_uri": "https://localhost:8080/"
        },
        "id": "4VumcSQxVyCL",
        "outputId": "e715ee26-5ac9-4c65-c7e7-b81e9c85be62"
      },
      "outputs": [
        {
          "output_type": "execute_result",
          "data": {
            "text/plain": [
              "138000.0"
            ]
          },
          "metadata": {},
          "execution_count": 128
        }
      ],
      "source": [
        "close_min = min(scale_back_df[0])\n",
        "close_min"
      ]
    },
    {
      "cell_type": "code",
      "execution_count": null,
      "metadata": {
        "colab": {
          "base_uri": "https://localhost:8080/"
        },
        "id": "L3WL4ev8WFPZ",
        "outputId": "3416a46b-29b5-4031-eb9e-45aae7dafa4a"
      },
      "outputs": [
        {
          "output_type": "execute_result",
          "data": {
            "text/plain": [
              "409500.0"
            ]
          },
          "metadata": {},
          "execution_count": 129
        }
      ],
      "source": [
        "close_max = max(scale_back_df[0])\n",
        "close_max"
      ]
    },
    {
      "cell_type": "code",
      "execution_count": null,
      "metadata": {
        "id": "cF7OuuLqWMqh"
      },
      "outputs": [],
      "source": [
        "def back_values(list):\n",
        "    new_list = list * (close_max - close_min) + close_min\n",
        "    return new_list"
      ]
    },
    {
      "cell_type": "code",
      "execution_count": null,
      "metadata": {
        "colab": {
          "base_uri": "https://localhost:8080/"
        },
        "id": "mEImL0gbXoOT",
        "outputId": "e013f0ac-1a90-4133-abcf-4c3a84cafd6e"
      },
      "outputs": [
        {
          "output_type": "execute_result",
          "data": {
            "text/plain": [
              "array([350240.75, 350192.56, 350271.12, 349787.25, 347899.5 , 358518.  ,\n",
              "       358374.38, 358435.66, 357856.94, 356060.78, 366088.25, 365829.7 ,\n",
              "       365828.  , 365166.06, 363609.3 , 370205.38, 369954.4 , 369731.44,\n",
              "       368911.2 , 367926.97, 367503.25, 367632.12, 366958.25, 365843.5 ,\n",
              "       365619.12, 357942.72, 359026.38, 357744.5 , 356389.84, 356561.  ,\n",
              "       346805.3 , 349019.28, 347324.3 , 346109.8 , 345838.25, 340731.03,\n",
              "       343295.88, 341653.66, 340904.06, 339768.56, 340852.2 , 342894.3 ,\n",
              "       341604.8 , 341228.3 , 339538.5 , 344439.62, 345744.78, 344836.12,\n",
              "       344552.56, 342733.25, 347570.62, 348391.3 , 347636.78, 347260.84,\n",
              "       345714.3 , 347558.66, 348323.75, 347498.56, 346958.8 , 345772.25,\n",
              "       345381.44, 346400.16, 345480.94, 344829.5 , 343705.8 , 345982.38,\n",
              "       347131.  , 346395.  , 345771.88, 344177.3 , 350603.94, 351419.94,\n",
              "       350885.56, 350367.25, 348651.84, 351990.62, 352560.56, 351840.6 ,\n",
              "       351262.03, 350181.1 , 345401.53, 346383.88, 345133.47, 344369.12,\n",
              "       344032.  , 333138.88, 335165.12, 333399.38, 332594.  , 332283.  ,\n",
              "       327784.06, 330400.88, 328988.7 , 328456.12, 326743.9 , 338624.25,\n",
              "       340188.66, 339788.62, 339634.5 , 336690.38, 353708.1 , 353832.94,\n",
              "       353833.7 , 353715.56, 351309.3 , 358834.38, 358521.56, 358184.8 ,\n",
              "       357702.06, 356656.88, 350441.12, 350840.03, 349705.2 , 348736.3 ,\n",
              "       348911.94, 333750.5 , 335867.94, 333947.84, 332811.06, 333027.  ,\n",
              "       321839.  , 325123.62, 323107.44, 322434.56, 321471.5 , 317480.  ,\n",
              "       320400.5 , 318597.38, 318537.25, 317038.06, 312122.38, 314409.44,\n",
              "       312610.8 , 312798.5 , 311685.94, 301534.5 , 303836.7 , 301880.84,\n",
              "       302061.28, 301376.44, 289928.56, 292634.88, 290742.94, 290930.56,\n",
              "       290024.9 , 283864.75, 286516.47, 285058.53, 285375.88, 283912.56,\n",
              "       283200.88, 285212.7 , 284289.9 , 284698.1 , 282982.2 , 287577.66,\n",
              "       288873.38, 288582.5 , 288900.7 , 286887.7 , 295164.2 , 295727.3 ,\n",
              "       295852.8 , 296059.56, 294115.12, 298985.  , 299133.25, 299187.3 ,\n",
              "       299255.06, 297953.75, 297097.4 , 297515.44, 297329.94, 297212.7 ,\n",
              "       296263.25, 298042.28, 298939.44, 298913.88, 298719.16, 297067.34,\n",
              "       305792.62, 306411.2 , 306612.38, 306558.6 , 304539.9 , 307390.16,\n",
              "       307545.3 , 307289.72, 307295.  , 306420.2 , 294095.84, 294927.5 ,\n",
              "       293791.06, 293631.38, 293926.38, 279636.8 , 282024.88, 280724.44,\n",
              "       280506.56, 279872.1 , 280977.88, 283393.66, 282820.62, 282960.7 ,\n",
              "       280758.1 , 290930.56, 291968.53, 291966.06, 292360.4 , 290111.7 ,\n",
              "       298985.16, 299159.25, 299400.28, 299603.94, 297761.25, 305541.8 ,\n",
              "       305552.47, 305881.78, 305830.38, 304134.53, 307997.06, 308049.12,\n",
              "       308088.62, 307932.62, 306787.8 , 302822.06, 303354.25, 302862.8 ,\n",
              "       302624.25, 302069.75], dtype=float32)"
            ]
          },
          "metadata": {},
          "execution_count": 131
        }
      ],
      "source": [
        "back_values(pred.flatten())  # 테스트셋, 원래 값으로"
      ]
    },
    {
      "cell_type": "code",
      "execution_count": null,
      "metadata": {
        "colab": {
          "base_uri": "https://localhost:8080/"
        },
        "id": "xhZtEbd5vnsx",
        "outputId": "ea6b5015-945d-4bd2-9b7d-f6decced65a1"
      },
      "outputs": [
        {
          "output_type": "execute_result",
          "data": {
            "text/plain": [
              "array([295683.12, 297054.8 , 296330.56, 296086.97, 295213.88],\n",
              "      dtype=float32)"
            ]
          },
          "metadata": {},
          "execution_count": 132
        }
      ],
      "source": [
        "back_values(result.flatten())  # 미래예측값, 원래 값으로"
      ]
    }
  ],
  "metadata": {
    "colab": {
      "collapsed_sections": [],
      "name": "getModel.ipynb",
      "provenance": [],
      "include_colab_link": true
    },
    "kernelspec": {
      "display_name": "Python 3",
      "name": "python3"
    },
    "language_info": {
      "name": "python"
    }
  },
  "nbformat": 4,
  "nbformat_minor": 0
}